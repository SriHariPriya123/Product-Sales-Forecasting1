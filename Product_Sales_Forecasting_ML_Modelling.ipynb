{
  "cells": [
    {
      "cell_type": "code",
      "execution_count": null,
      "metadata": {
        "id": "m0NOQaqrhn36"
      },
      "outputs": [],
      "source": [
        "import pandas as pd\n",
        "import numpy as np\n",
        "import seaborn as sns\n",
        "import matplotlib.pyplot as plt\n",
        "import warnings\n",
        "warnings.filterwarnings('ignore')"
      ]
    },
    {
      "cell_type": "code",
      "execution_count": null,
      "metadata": {
        "id": "UExjHve5hiHu"
      },
      "outputs": [],
      "source": [
        "train_df=pd.read_csv(\"/content/TRAIN.csv\")"
      ]
    },
    {
      "cell_type": "code",
      "execution_count": null,
      "metadata": {
        "id": "RPeEYFi2j6zz"
      },
      "outputs": [],
      "source": [
        "test_df=pd.read_csv(\"/content/TEST_FINAL.csv\")"
      ]
    },
    {
      "cell_type": "code",
      "execution_count": null,
      "metadata": {
        "colab": {
          "base_uri": "https://localhost:8080/",
          "height": 206
        },
        "id": "Y6qD_MFAOwbO",
        "outputId": "0bdda2bc-bec9-4b81-b7e1-1a43d5ac7cb1"
      },
      "outputs": [
        {
          "data": {
            "application/vnd.google.colaboratory.intrinsic+json": {
              "summary": "{\n  \"name\": \"test_df\",\n  \"rows\": 22265,\n  \"fields\": [\n    {\n      \"column\": \"ID\",\n      \"properties\": {\n        \"dtype\": \"string\",\n        \"num_unique_values\": 22265,\n        \"samples\": [\n          \"T1190426\",\n          \"T1195450\",\n          \"T1195260\"\n        ],\n        \"semantic_type\": \"\",\n        \"description\": \"\"\n      }\n    },\n    {\n      \"column\": \"Store_id\",\n      \"properties\": {\n        \"dtype\": \"number\",\n        \"std\": 105,\n        \"min\": 1,\n        \"max\": 365,\n        \"num_unique_values\": 365,\n        \"samples\": [\n          111,\n          145,\n          183\n        ],\n        \"semantic_type\": \"\",\n        \"description\": \"\"\n      }\n    },\n    {\n      \"column\": \"Store_Type\",\n      \"properties\": {\n        \"dtype\": \"category\",\n        \"num_unique_values\": 4,\n        \"samples\": [\n          \"S1\",\n          \"S2\",\n          \"S4\"\n        ],\n        \"semantic_type\": \"\",\n        \"description\": \"\"\n      }\n    },\n    {\n      \"column\": \"Location_Type\",\n      \"properties\": {\n        \"dtype\": \"category\",\n        \"num_unique_values\": 5,\n        \"samples\": [\n          \"L1\",\n          \"L4\",\n          \"L3\"\n        ],\n        \"semantic_type\": \"\",\n        \"description\": \"\"\n      }\n    },\n    {\n      \"column\": \"Region_Code\",\n      \"properties\": {\n        \"dtype\": \"category\",\n        \"num_unique_values\": 4,\n        \"samples\": [\n          \"R1\",\n          \"R2\",\n          \"R3\"\n        ],\n        \"semantic_type\": \"\",\n        \"description\": \"\"\n      }\n    },\n    {\n      \"column\": \"Date\",\n      \"properties\": {\n        \"dtype\": \"object\",\n        \"num_unique_values\": 61,\n        \"samples\": [\n          \"2019-06-01\",\n          \"2019-06-06\",\n          \"2019-07-17\"\n        ],\n        \"semantic_type\": \"\",\n        \"description\": \"\"\n      }\n    },\n    {\n      \"column\": \"Holiday\",\n      \"properties\": {\n        \"dtype\": \"number\",\n        \"std\": 0,\n        \"min\": 0,\n        \"max\": 1,\n        \"num_unique_values\": 2,\n        \"samples\": [\n          1,\n          0\n        ],\n        \"semantic_type\": \"\",\n        \"description\": \"\"\n      }\n    },\n    {\n      \"column\": \"Discount\",\n      \"properties\": {\n        \"dtype\": \"category\",\n        \"num_unique_values\": 2,\n        \"samples\": [\n          \"Yes\",\n          \"No\"\n        ],\n        \"semantic_type\": \"\",\n        \"description\": \"\"\n      }\n    }\n  ]\n}",
              "type": "dataframe",
              "variable_name": "test_df"
            },
            "text/html": [
              "\n",
              "  <div id=\"df-0f4cb2c2-62d2-4710-979f-1e5c09827556\" class=\"colab-df-container\">\n",
              "    <div>\n",
              "<style scoped>\n",
              "    .dataframe tbody tr th:only-of-type {\n",
              "        vertical-align: middle;\n",
              "    }\n",
              "\n",
              "    .dataframe tbody tr th {\n",
              "        vertical-align: top;\n",
              "    }\n",
              "\n",
              "    .dataframe thead th {\n",
              "        text-align: right;\n",
              "    }\n",
              "</style>\n",
              "<table border=\"1\" class=\"dataframe\">\n",
              "  <thead>\n",
              "    <tr style=\"text-align: right;\">\n",
              "      <th></th>\n",
              "      <th>ID</th>\n",
              "      <th>Store_id</th>\n",
              "      <th>Store_Type</th>\n",
              "      <th>Location_Type</th>\n",
              "      <th>Region_Code</th>\n",
              "      <th>Date</th>\n",
              "      <th>Holiday</th>\n",
              "      <th>Discount</th>\n",
              "    </tr>\n",
              "  </thead>\n",
              "  <tbody>\n",
              "    <tr>\n",
              "      <th>0</th>\n",
              "      <td>T1188341</td>\n",
              "      <td>171</td>\n",
              "      <td>S4</td>\n",
              "      <td>L2</td>\n",
              "      <td>R3</td>\n",
              "      <td>2019-06-01</td>\n",
              "      <td>0</td>\n",
              "      <td>No</td>\n",
              "    </tr>\n",
              "    <tr>\n",
              "      <th>1</th>\n",
              "      <td>T1188342</td>\n",
              "      <td>172</td>\n",
              "      <td>S1</td>\n",
              "      <td>L1</td>\n",
              "      <td>R1</td>\n",
              "      <td>2019-06-01</td>\n",
              "      <td>0</td>\n",
              "      <td>No</td>\n",
              "    </tr>\n",
              "    <tr>\n",
              "      <th>2</th>\n",
              "      <td>T1188343</td>\n",
              "      <td>173</td>\n",
              "      <td>S4</td>\n",
              "      <td>L2</td>\n",
              "      <td>R1</td>\n",
              "      <td>2019-06-01</td>\n",
              "      <td>0</td>\n",
              "      <td>No</td>\n",
              "    </tr>\n",
              "    <tr>\n",
              "      <th>3</th>\n",
              "      <td>T1188344</td>\n",
              "      <td>174</td>\n",
              "      <td>S1</td>\n",
              "      <td>L1</td>\n",
              "      <td>R4</td>\n",
              "      <td>2019-06-01</td>\n",
              "      <td>0</td>\n",
              "      <td>No</td>\n",
              "    </tr>\n",
              "    <tr>\n",
              "      <th>4</th>\n",
              "      <td>T1188345</td>\n",
              "      <td>170</td>\n",
              "      <td>S1</td>\n",
              "      <td>L1</td>\n",
              "      <td>R2</td>\n",
              "      <td>2019-06-01</td>\n",
              "      <td>0</td>\n",
              "      <td>No</td>\n",
              "    </tr>\n",
              "  </tbody>\n",
              "</table>\n",
              "</div>\n",
              "    <div class=\"colab-df-buttons\">\n",
              "\n",
              "  <div class=\"colab-df-container\">\n",
              "    <button class=\"colab-df-convert\" onclick=\"convertToInteractive('df-0f4cb2c2-62d2-4710-979f-1e5c09827556')\"\n",
              "            title=\"Convert this dataframe to an interactive table.\"\n",
              "            style=\"display:none;\">\n",
              "\n",
              "  <svg xmlns=\"http://www.w3.org/2000/svg\" height=\"24px\" viewBox=\"0 -960 960 960\">\n",
              "    <path d=\"M120-120v-720h720v720H120Zm60-500h600v-160H180v160Zm220 220h160v-160H400v160Zm0 220h160v-160H400v160ZM180-400h160v-160H180v160Zm440 0h160v-160H620v160ZM180-180h160v-160H180v160Zm440 0h160v-160H620v160Z\"/>\n",
              "  </svg>\n",
              "    </button>\n",
              "\n",
              "  <style>\n",
              "    .colab-df-container {\n",
              "      display:flex;\n",
              "      gap: 12px;\n",
              "    }\n",
              "\n",
              "    .colab-df-convert {\n",
              "      background-color: #E8F0FE;\n",
              "      border: none;\n",
              "      border-radius: 50%;\n",
              "      cursor: pointer;\n",
              "      display: none;\n",
              "      fill: #1967D2;\n",
              "      height: 32px;\n",
              "      padding: 0 0 0 0;\n",
              "      width: 32px;\n",
              "    }\n",
              "\n",
              "    .colab-df-convert:hover {\n",
              "      background-color: #E2EBFA;\n",
              "      box-shadow: 0px 1px 2px rgba(60, 64, 67, 0.3), 0px 1px 3px 1px rgba(60, 64, 67, 0.15);\n",
              "      fill: #174EA6;\n",
              "    }\n",
              "\n",
              "    .colab-df-buttons div {\n",
              "      margin-bottom: 4px;\n",
              "    }\n",
              "\n",
              "    [theme=dark] .colab-df-convert {\n",
              "      background-color: #3B4455;\n",
              "      fill: #D2E3FC;\n",
              "    }\n",
              "\n",
              "    [theme=dark] .colab-df-convert:hover {\n",
              "      background-color: #434B5C;\n",
              "      box-shadow: 0px 1px 3px 1px rgba(0, 0, 0, 0.15);\n",
              "      filter: drop-shadow(0px 1px 2px rgba(0, 0, 0, 0.3));\n",
              "      fill: #FFFFFF;\n",
              "    }\n",
              "  </style>\n",
              "\n",
              "    <script>\n",
              "      const buttonEl =\n",
              "        document.querySelector('#df-0f4cb2c2-62d2-4710-979f-1e5c09827556 button.colab-df-convert');\n",
              "      buttonEl.style.display =\n",
              "        google.colab.kernel.accessAllowed ? 'block' : 'none';\n",
              "\n",
              "      async function convertToInteractive(key) {\n",
              "        const element = document.querySelector('#df-0f4cb2c2-62d2-4710-979f-1e5c09827556');\n",
              "        const dataTable =\n",
              "          await google.colab.kernel.invokeFunction('convertToInteractive',\n",
              "                                                    [key], {});\n",
              "        if (!dataTable) return;\n",
              "\n",
              "        const docLinkHtml = 'Like what you see? Visit the ' +\n",
              "          '<a target=\"_blank\" href=https://colab.research.google.com/notebooks/data_table.ipynb>data table notebook</a>'\n",
              "          + ' to learn more about interactive tables.';\n",
              "        element.innerHTML = '';\n",
              "        dataTable['output_type'] = 'display_data';\n",
              "        await google.colab.output.renderOutput(dataTable, element);\n",
              "        const docLink = document.createElement('div');\n",
              "        docLink.innerHTML = docLinkHtml;\n",
              "        element.appendChild(docLink);\n",
              "      }\n",
              "    </script>\n",
              "  </div>\n",
              "\n",
              "\n",
              "<div id=\"df-513a6799-e12f-4257-8e44-5aa89c435283\">\n",
              "  <button class=\"colab-df-quickchart\" onclick=\"quickchart('df-513a6799-e12f-4257-8e44-5aa89c435283')\"\n",
              "            title=\"Suggest charts\"\n",
              "            style=\"display:none;\">\n",
              "\n",
              "<svg xmlns=\"http://www.w3.org/2000/svg\" height=\"24px\"viewBox=\"0 0 24 24\"\n",
              "     width=\"24px\">\n",
              "    <g>\n",
              "        <path d=\"M19 3H5c-1.1 0-2 .9-2 2v14c0 1.1.9 2 2 2h14c1.1 0 2-.9 2-2V5c0-1.1-.9-2-2-2zM9 17H7v-7h2v7zm4 0h-2V7h2v10zm4 0h-2v-4h2v4z\"/>\n",
              "    </g>\n",
              "</svg>\n",
              "  </button>\n",
              "\n",
              "<style>\n",
              "  .colab-df-quickchart {\n",
              "      --bg-color: #E8F0FE;\n",
              "      --fill-color: #1967D2;\n",
              "      --hover-bg-color: #E2EBFA;\n",
              "      --hover-fill-color: #174EA6;\n",
              "      --disabled-fill-color: #AAA;\n",
              "      --disabled-bg-color: #DDD;\n",
              "  }\n",
              "\n",
              "  [theme=dark] .colab-df-quickchart {\n",
              "      --bg-color: #3B4455;\n",
              "      --fill-color: #D2E3FC;\n",
              "      --hover-bg-color: #434B5C;\n",
              "      --hover-fill-color: #FFFFFF;\n",
              "      --disabled-bg-color: #3B4455;\n",
              "      --disabled-fill-color: #666;\n",
              "  }\n",
              "\n",
              "  .colab-df-quickchart {\n",
              "    background-color: var(--bg-color);\n",
              "    border: none;\n",
              "    border-radius: 50%;\n",
              "    cursor: pointer;\n",
              "    display: none;\n",
              "    fill: var(--fill-color);\n",
              "    height: 32px;\n",
              "    padding: 0;\n",
              "    width: 32px;\n",
              "  }\n",
              "\n",
              "  .colab-df-quickchart:hover {\n",
              "    background-color: var(--hover-bg-color);\n",
              "    box-shadow: 0 1px 2px rgba(60, 64, 67, 0.3), 0 1px 3px 1px rgba(60, 64, 67, 0.15);\n",
              "    fill: var(--button-hover-fill-color);\n",
              "  }\n",
              "\n",
              "  .colab-df-quickchart-complete:disabled,\n",
              "  .colab-df-quickchart-complete:disabled:hover {\n",
              "    background-color: var(--disabled-bg-color);\n",
              "    fill: var(--disabled-fill-color);\n",
              "    box-shadow: none;\n",
              "  }\n",
              "\n",
              "  .colab-df-spinner {\n",
              "    border: 2px solid var(--fill-color);\n",
              "    border-color: transparent;\n",
              "    border-bottom-color: var(--fill-color);\n",
              "    animation:\n",
              "      spin 1s steps(1) infinite;\n",
              "  }\n",
              "\n",
              "  @keyframes spin {\n",
              "    0% {\n",
              "      border-color: transparent;\n",
              "      border-bottom-color: var(--fill-color);\n",
              "      border-left-color: var(--fill-color);\n",
              "    }\n",
              "    20% {\n",
              "      border-color: transparent;\n",
              "      border-left-color: var(--fill-color);\n",
              "      border-top-color: var(--fill-color);\n",
              "    }\n",
              "    30% {\n",
              "      border-color: transparent;\n",
              "      border-left-color: var(--fill-color);\n",
              "      border-top-color: var(--fill-color);\n",
              "      border-right-color: var(--fill-color);\n",
              "    }\n",
              "    40% {\n",
              "      border-color: transparent;\n",
              "      border-right-color: var(--fill-color);\n",
              "      border-top-color: var(--fill-color);\n",
              "    }\n",
              "    60% {\n",
              "      border-color: transparent;\n",
              "      border-right-color: var(--fill-color);\n",
              "    }\n",
              "    80% {\n",
              "      border-color: transparent;\n",
              "      border-right-color: var(--fill-color);\n",
              "      border-bottom-color: var(--fill-color);\n",
              "    }\n",
              "    90% {\n",
              "      border-color: transparent;\n",
              "      border-bottom-color: var(--fill-color);\n",
              "    }\n",
              "  }\n",
              "</style>\n",
              "\n",
              "  <script>\n",
              "    async function quickchart(key) {\n",
              "      const quickchartButtonEl =\n",
              "        document.querySelector('#' + key + ' button');\n",
              "      quickchartButtonEl.disabled = true;  // To prevent multiple clicks.\n",
              "      quickchartButtonEl.classList.add('colab-df-spinner');\n",
              "      try {\n",
              "        const charts = await google.colab.kernel.invokeFunction(\n",
              "            'suggestCharts', [key], {});\n",
              "      } catch (error) {\n",
              "        console.error('Error during call to suggestCharts:', error);\n",
              "      }\n",
              "      quickchartButtonEl.classList.remove('colab-df-spinner');\n",
              "      quickchartButtonEl.classList.add('colab-df-quickchart-complete');\n",
              "    }\n",
              "    (() => {\n",
              "      let quickchartButtonEl =\n",
              "        document.querySelector('#df-513a6799-e12f-4257-8e44-5aa89c435283 button');\n",
              "      quickchartButtonEl.style.display =\n",
              "        google.colab.kernel.accessAllowed ? 'block' : 'none';\n",
              "    })();\n",
              "  </script>\n",
              "</div>\n",
              "\n",
              "    </div>\n",
              "  </div>\n"
            ],
            "text/plain": [
              "         ID  Store_id Store_Type Location_Type Region_Code        Date  \\\n",
              "0  T1188341       171         S4            L2          R3  2019-06-01   \n",
              "1  T1188342       172         S1            L1          R1  2019-06-01   \n",
              "2  T1188343       173         S4            L2          R1  2019-06-01   \n",
              "3  T1188344       174         S1            L1          R4  2019-06-01   \n",
              "4  T1188345       170         S1            L1          R2  2019-06-01   \n",
              "\n",
              "   Holiday Discount  \n",
              "0        0       No  \n",
              "1        0       No  \n",
              "2        0       No  \n",
              "3        0       No  \n",
              "4        0       No  "
            ]
          },
          "execution_count": 4,
          "metadata": {},
          "output_type": "execute_result"
        }
      ],
      "source": [
        "test_df.head()"
      ]
    },
    {
      "cell_type": "code",
      "execution_count": null,
      "metadata": {
        "colab": {
          "base_uri": "https://localhost:8080/",
          "height": 206
        },
        "id": "UJ73Ycibhr1R",
        "outputId": "8fbb49d1-e0f5-4395-ca5a-4596c72746d1"
      },
      "outputs": [
        {
          "data": {
            "application/vnd.google.colaboratory.intrinsic+json": {
              "type": "dataframe",
              "variable_name": "train_df"
            },
            "text/html": [
              "\n",
              "  <div id=\"df-0aa879a7-fd68-4b91-b4f6-7fde1c142ff9\" class=\"colab-df-container\">\n",
              "    <div>\n",
              "<style scoped>\n",
              "    .dataframe tbody tr th:only-of-type {\n",
              "        vertical-align: middle;\n",
              "    }\n",
              "\n",
              "    .dataframe tbody tr th {\n",
              "        vertical-align: top;\n",
              "    }\n",
              "\n",
              "    .dataframe thead th {\n",
              "        text-align: right;\n",
              "    }\n",
              "</style>\n",
              "<table border=\"1\" class=\"dataframe\">\n",
              "  <thead>\n",
              "    <tr style=\"text-align: right;\">\n",
              "      <th></th>\n",
              "      <th>ID</th>\n",
              "      <th>Store_id</th>\n",
              "      <th>Store_Type</th>\n",
              "      <th>Location_Type</th>\n",
              "      <th>Region_Code</th>\n",
              "      <th>Date</th>\n",
              "      <th>Holiday</th>\n",
              "      <th>Discount</th>\n",
              "      <th>#Order</th>\n",
              "      <th>Sales</th>\n",
              "    </tr>\n",
              "  </thead>\n",
              "  <tbody>\n",
              "    <tr>\n",
              "      <th>0</th>\n",
              "      <td>T1000001</td>\n",
              "      <td>1</td>\n",
              "      <td>S1</td>\n",
              "      <td>L3</td>\n",
              "      <td>R1</td>\n",
              "      <td>2018-01-01</td>\n",
              "      <td>1</td>\n",
              "      <td>Yes</td>\n",
              "      <td>9</td>\n",
              "      <td>7011.84</td>\n",
              "    </tr>\n",
              "    <tr>\n",
              "      <th>1</th>\n",
              "      <td>T1000002</td>\n",
              "      <td>253</td>\n",
              "      <td>S4</td>\n",
              "      <td>L2</td>\n",
              "      <td>R1</td>\n",
              "      <td>2018-01-01</td>\n",
              "      <td>1</td>\n",
              "      <td>Yes</td>\n",
              "      <td>60</td>\n",
              "      <td>51789.12</td>\n",
              "    </tr>\n",
              "    <tr>\n",
              "      <th>2</th>\n",
              "      <td>T1000003</td>\n",
              "      <td>252</td>\n",
              "      <td>S3</td>\n",
              "      <td>L2</td>\n",
              "      <td>R1</td>\n",
              "      <td>2018-01-01</td>\n",
              "      <td>1</td>\n",
              "      <td>Yes</td>\n",
              "      <td>42</td>\n",
              "      <td>36868.20</td>\n",
              "    </tr>\n",
              "    <tr>\n",
              "      <th>3</th>\n",
              "      <td>T1000004</td>\n",
              "      <td>251</td>\n",
              "      <td>S2</td>\n",
              "      <td>L3</td>\n",
              "      <td>R1</td>\n",
              "      <td>2018-01-01</td>\n",
              "      <td>1</td>\n",
              "      <td>Yes</td>\n",
              "      <td>23</td>\n",
              "      <td>19715.16</td>\n",
              "    </tr>\n",
              "    <tr>\n",
              "      <th>4</th>\n",
              "      <td>T1000005</td>\n",
              "      <td>250</td>\n",
              "      <td>S2</td>\n",
              "      <td>L3</td>\n",
              "      <td>R4</td>\n",
              "      <td>2018-01-01</td>\n",
              "      <td>1</td>\n",
              "      <td>Yes</td>\n",
              "      <td>62</td>\n",
              "      <td>45614.52</td>\n",
              "    </tr>\n",
              "  </tbody>\n",
              "</table>\n",
              "</div>\n",
              "    <div class=\"colab-df-buttons\">\n",
              "\n",
              "  <div class=\"colab-df-container\">\n",
              "    <button class=\"colab-df-convert\" onclick=\"convertToInteractive('df-0aa879a7-fd68-4b91-b4f6-7fde1c142ff9')\"\n",
              "            title=\"Convert this dataframe to an interactive table.\"\n",
              "            style=\"display:none;\">\n",
              "\n",
              "  <svg xmlns=\"http://www.w3.org/2000/svg\" height=\"24px\" viewBox=\"0 -960 960 960\">\n",
              "    <path d=\"M120-120v-720h720v720H120Zm60-500h600v-160H180v160Zm220 220h160v-160H400v160Zm0 220h160v-160H400v160ZM180-400h160v-160H180v160Zm440 0h160v-160H620v160ZM180-180h160v-160H180v160Zm440 0h160v-160H620v160Z\"/>\n",
              "  </svg>\n",
              "    </button>\n",
              "\n",
              "  <style>\n",
              "    .colab-df-container {\n",
              "      display:flex;\n",
              "      gap: 12px;\n",
              "    }\n",
              "\n",
              "    .colab-df-convert {\n",
              "      background-color: #E8F0FE;\n",
              "      border: none;\n",
              "      border-radius: 50%;\n",
              "      cursor: pointer;\n",
              "      display: none;\n",
              "      fill: #1967D2;\n",
              "      height: 32px;\n",
              "      padding: 0 0 0 0;\n",
              "      width: 32px;\n",
              "    }\n",
              "\n",
              "    .colab-df-convert:hover {\n",
              "      background-color: #E2EBFA;\n",
              "      box-shadow: 0px 1px 2px rgba(60, 64, 67, 0.3), 0px 1px 3px 1px rgba(60, 64, 67, 0.15);\n",
              "      fill: #174EA6;\n",
              "    }\n",
              "\n",
              "    .colab-df-buttons div {\n",
              "      margin-bottom: 4px;\n",
              "    }\n",
              "\n",
              "    [theme=dark] .colab-df-convert {\n",
              "      background-color: #3B4455;\n",
              "      fill: #D2E3FC;\n",
              "    }\n",
              "\n",
              "    [theme=dark] .colab-df-convert:hover {\n",
              "      background-color: #434B5C;\n",
              "      box-shadow: 0px 1px 3px 1px rgba(0, 0, 0, 0.15);\n",
              "      filter: drop-shadow(0px 1px 2px rgba(0, 0, 0, 0.3));\n",
              "      fill: #FFFFFF;\n",
              "    }\n",
              "  </style>\n",
              "\n",
              "    <script>\n",
              "      const buttonEl =\n",
              "        document.querySelector('#df-0aa879a7-fd68-4b91-b4f6-7fde1c142ff9 button.colab-df-convert');\n",
              "      buttonEl.style.display =\n",
              "        google.colab.kernel.accessAllowed ? 'block' : 'none';\n",
              "\n",
              "      async function convertToInteractive(key) {\n",
              "        const element = document.querySelector('#df-0aa879a7-fd68-4b91-b4f6-7fde1c142ff9');\n",
              "        const dataTable =\n",
              "          await google.colab.kernel.invokeFunction('convertToInteractive',\n",
              "                                                    [key], {});\n",
              "        if (!dataTable) return;\n",
              "\n",
              "        const docLinkHtml = 'Like what you see? Visit the ' +\n",
              "          '<a target=\"_blank\" href=https://colab.research.google.com/notebooks/data_table.ipynb>data table notebook</a>'\n",
              "          + ' to learn more about interactive tables.';\n",
              "        element.innerHTML = '';\n",
              "        dataTable['output_type'] = 'display_data';\n",
              "        await google.colab.output.renderOutput(dataTable, element);\n",
              "        const docLink = document.createElement('div');\n",
              "        docLink.innerHTML = docLinkHtml;\n",
              "        element.appendChild(docLink);\n",
              "      }\n",
              "    </script>\n",
              "  </div>\n",
              "\n",
              "\n",
              "<div id=\"df-53524460-0988-4f8a-b86b-c32fd6b1edb6\">\n",
              "  <button class=\"colab-df-quickchart\" onclick=\"quickchart('df-53524460-0988-4f8a-b86b-c32fd6b1edb6')\"\n",
              "            title=\"Suggest charts\"\n",
              "            style=\"display:none;\">\n",
              "\n",
              "<svg xmlns=\"http://www.w3.org/2000/svg\" height=\"24px\"viewBox=\"0 0 24 24\"\n",
              "     width=\"24px\">\n",
              "    <g>\n",
              "        <path d=\"M19 3H5c-1.1 0-2 .9-2 2v14c0 1.1.9 2 2 2h14c1.1 0 2-.9 2-2V5c0-1.1-.9-2-2-2zM9 17H7v-7h2v7zm4 0h-2V7h2v10zm4 0h-2v-4h2v4z\"/>\n",
              "    </g>\n",
              "</svg>\n",
              "  </button>\n",
              "\n",
              "<style>\n",
              "  .colab-df-quickchart {\n",
              "      --bg-color: #E8F0FE;\n",
              "      --fill-color: #1967D2;\n",
              "      --hover-bg-color: #E2EBFA;\n",
              "      --hover-fill-color: #174EA6;\n",
              "      --disabled-fill-color: #AAA;\n",
              "      --disabled-bg-color: #DDD;\n",
              "  }\n",
              "\n",
              "  [theme=dark] .colab-df-quickchart {\n",
              "      --bg-color: #3B4455;\n",
              "      --fill-color: #D2E3FC;\n",
              "      --hover-bg-color: #434B5C;\n",
              "      --hover-fill-color: #FFFFFF;\n",
              "      --disabled-bg-color: #3B4455;\n",
              "      --disabled-fill-color: #666;\n",
              "  }\n",
              "\n",
              "  .colab-df-quickchart {\n",
              "    background-color: var(--bg-color);\n",
              "    border: none;\n",
              "    border-radius: 50%;\n",
              "    cursor: pointer;\n",
              "    display: none;\n",
              "    fill: var(--fill-color);\n",
              "    height: 32px;\n",
              "    padding: 0;\n",
              "    width: 32px;\n",
              "  }\n",
              "\n",
              "  .colab-df-quickchart:hover {\n",
              "    background-color: var(--hover-bg-color);\n",
              "    box-shadow: 0 1px 2px rgba(60, 64, 67, 0.3), 0 1px 3px 1px rgba(60, 64, 67, 0.15);\n",
              "    fill: var(--button-hover-fill-color);\n",
              "  }\n",
              "\n",
              "  .colab-df-quickchart-complete:disabled,\n",
              "  .colab-df-quickchart-complete:disabled:hover {\n",
              "    background-color: var(--disabled-bg-color);\n",
              "    fill: var(--disabled-fill-color);\n",
              "    box-shadow: none;\n",
              "  }\n",
              "\n",
              "  .colab-df-spinner {\n",
              "    border: 2px solid var(--fill-color);\n",
              "    border-color: transparent;\n",
              "    border-bottom-color: var(--fill-color);\n",
              "    animation:\n",
              "      spin 1s steps(1) infinite;\n",
              "  }\n",
              "\n",
              "  @keyframes spin {\n",
              "    0% {\n",
              "      border-color: transparent;\n",
              "      border-bottom-color: var(--fill-color);\n",
              "      border-left-color: var(--fill-color);\n",
              "    }\n",
              "    20% {\n",
              "      border-color: transparent;\n",
              "      border-left-color: var(--fill-color);\n",
              "      border-top-color: var(--fill-color);\n",
              "    }\n",
              "    30% {\n",
              "      border-color: transparent;\n",
              "      border-left-color: var(--fill-color);\n",
              "      border-top-color: var(--fill-color);\n",
              "      border-right-color: var(--fill-color);\n",
              "    }\n",
              "    40% {\n",
              "      border-color: transparent;\n",
              "      border-right-color: var(--fill-color);\n",
              "      border-top-color: var(--fill-color);\n",
              "    }\n",
              "    60% {\n",
              "      border-color: transparent;\n",
              "      border-right-color: var(--fill-color);\n",
              "    }\n",
              "    80% {\n",
              "      border-color: transparent;\n",
              "      border-right-color: var(--fill-color);\n",
              "      border-bottom-color: var(--fill-color);\n",
              "    }\n",
              "    90% {\n",
              "      border-color: transparent;\n",
              "      border-bottom-color: var(--fill-color);\n",
              "    }\n",
              "  }\n",
              "</style>\n",
              "\n",
              "  <script>\n",
              "    async function quickchart(key) {\n",
              "      const quickchartButtonEl =\n",
              "        document.querySelector('#' + key + ' button');\n",
              "      quickchartButtonEl.disabled = true;  // To prevent multiple clicks.\n",
              "      quickchartButtonEl.classList.add('colab-df-spinner');\n",
              "      try {\n",
              "        const charts = await google.colab.kernel.invokeFunction(\n",
              "            'suggestCharts', [key], {});\n",
              "      } catch (error) {\n",
              "        console.error('Error during call to suggestCharts:', error);\n",
              "      }\n",
              "      quickchartButtonEl.classList.remove('colab-df-spinner');\n",
              "      quickchartButtonEl.classList.add('colab-df-quickchart-complete');\n",
              "    }\n",
              "    (() => {\n",
              "      let quickchartButtonEl =\n",
              "        document.querySelector('#df-53524460-0988-4f8a-b86b-c32fd6b1edb6 button');\n",
              "      quickchartButtonEl.style.display =\n",
              "        google.colab.kernel.accessAllowed ? 'block' : 'none';\n",
              "    })();\n",
              "  </script>\n",
              "</div>\n",
              "\n",
              "    </div>\n",
              "  </div>\n"
            ],
            "text/plain": [
              "         ID  Store_id Store_Type Location_Type Region_Code        Date  \\\n",
              "0  T1000001         1         S1            L3          R1  2018-01-01   \n",
              "1  T1000002       253         S4            L2          R1  2018-01-01   \n",
              "2  T1000003       252         S3            L2          R1  2018-01-01   \n",
              "3  T1000004       251         S2            L3          R1  2018-01-01   \n",
              "4  T1000005       250         S2            L3          R4  2018-01-01   \n",
              "\n",
              "   Holiday Discount  #Order     Sales  \n",
              "0        1      Yes       9   7011.84  \n",
              "1        1      Yes      60  51789.12  \n",
              "2        1      Yes      42  36868.20  \n",
              "3        1      Yes      23  19715.16  \n",
              "4        1      Yes      62  45614.52  "
            ]
          },
          "execution_count": 5,
          "metadata": {},
          "output_type": "execute_result"
        }
      ],
      "source": [
        "train_df.head()"
      ]
    },
    {
      "cell_type": "markdown",
      "metadata": {
        "id": "lhNWj5LWhFjh"
      },
      "source": [
        "Data Processing\n",
        "\n",
        "●\tData Cleaning: Address missing values, remove duplicates, and correct inconsistencies in the dataset.\n"
      ]
    },
    {
      "cell_type": "markdown",
      "metadata": {
        "id": "JMlQ6ezahcZc"
      },
      "source": [
        "Step 1: Address Missing Values"
      ]
    },
    {
      "cell_type": "code",
      "execution_count": null,
      "metadata": {
        "colab": {
          "base_uri": "https://localhost:8080/"
        },
        "id": "Vnfia1SCg9t6",
        "outputId": "a110b5f1-c6e3-48fa-c509-97d40aa0e33f"
      },
      "outputs": [
        {
          "name": "stdout",
          "output_type": "stream",
          "text": [
            "ID               0\n",
            "Store_id         0\n",
            "Store_Type       0\n",
            "Location_Type    0\n",
            "Region_Code      0\n",
            "Date             0\n",
            "Holiday          0\n",
            "Discount         0\n",
            "#Order           0\n",
            "Sales            0\n",
            "dtype: int64\n",
            "Missing values in each column:\n",
            " Series([], dtype: int64)\n"
          ]
        }
      ],
      "source": [
        "# Dis# Display columns with missing values and their counts\n",
        "missing_values = train_df.isnull().sum()\n",
        "print(missing_values)\n",
        "print(\"Missing values in each column:\\n\", missing_values[missing_values > 0])\n"
      ]
    },
    {
      "cell_type": "markdown",
      "metadata": {
        "id": "EILRpArZYgXX"
      },
      "source": [
        "There are NO MISSING VALUES in the data"
      ]
    },
    {
      "cell_type": "markdown",
      "metadata": {
        "id": "Kq4IuRorYjOo"
      },
      "source": [
        "Step 2: Remove Duplicates"
      ]
    },
    {
      "cell_type": "code",
      "execution_count": null,
      "metadata": {
        "colab": {
          "base_uri": "https://localhost:8080/"
        },
        "id": "1WW_aSAYhgFZ",
        "outputId": "731f0cca-e3b9-4cd9-c3a5-36a961bfe0d5"
      },
      "outputs": [
        {
          "name": "stdout",
          "output_type": "stream",
          "text": [
            "Number of duplicate rows: 0\n"
          ]
        }
      ],
      "source": [
        "# Check for duplicates\n",
        "duplicates = train_df.duplicated()\n",
        "print(\"Number of duplicate rows:\", duplicates.sum())"
      ]
    },
    {
      "cell_type": "markdown",
      "metadata": {
        "id": "lMi40EkgYrKV"
      },
      "source": [
        "There are NO DUPLICATES in the data."
      ]
    },
    {
      "cell_type": "markdown",
      "metadata": {
        "id": "IjE9eKZfYuL5"
      },
      "source": [
        "Step 3: Correct Inconsistencies"
      ]
    },
    {
      "cell_type": "code",
      "execution_count": null,
      "metadata": {
        "colab": {
          "base_uri": "https://localhost:8080/"
        },
        "id": "Kaq_OYK3YmiL",
        "outputId": "957527aa-295c-4bad-a148-c3f768f82116"
      },
      "outputs": [
        {
          "name": "stdout",
          "output_type": "stream",
          "text": [
            "<class 'pandas.core.frame.DataFrame'>\n",
            "RangeIndex: 188340 entries, 0 to 188339\n",
            "Data columns (total 10 columns):\n",
            " #   Column         Non-Null Count   Dtype  \n",
            "---  ------         --------------   -----  \n",
            " 0   ID             188340 non-null  object \n",
            " 1   Store_id       188340 non-null  int64  \n",
            " 2   Store_Type     188340 non-null  object \n",
            " 3   Location_Type  188340 non-null  object \n",
            " 4   Region_Code    188340 non-null  object \n",
            " 5   Date           188340 non-null  object \n",
            " 6   Holiday        188340 non-null  int64  \n",
            " 7   Discount       188340 non-null  object \n",
            " 8   #Order         188340 non-null  int64  \n",
            " 9   Sales          188340 non-null  float64\n",
            "dtypes: float64(1), int64(3), object(6)\n",
            "memory usage: 14.4+ MB\n"
          ]
        }
      ],
      "source": [
        "train_df.info()"
      ]
    },
    {
      "cell_type": "code",
      "execution_count": null,
      "metadata": {
        "id": "rcYm51CgYzEm"
      },
      "outputs": [],
      "source": [
        "# Convert 'Date' column to datetime format\n",
        "train_df[\"Date\"]=pd.to_datetime(train_df[\"Date\"])\n"
      ]
    },
    {
      "cell_type": "code",
      "execution_count": null,
      "metadata": {
        "id": "AgcTRSgTZuQh"
      },
      "outputs": [],
      "source": [
        "cat_cols = ['Store_Type', 'Location_Type', 'Region_Code', 'Discount']\n",
        "for col in cat_cols:\n",
        "    train_df[col] = train_df[col].astype('category')\n"
      ]
    },
    {
      "cell_type": "code",
      "execution_count": null,
      "metadata": {
        "colab": {
          "base_uri": "https://localhost:8080/"
        },
        "id": "TekprKg0aACt",
        "outputId": "c7f21890-1a68-4292-d33e-214a5b1d2eee"
      },
      "outputs": [
        {
          "name": "stdout",
          "output_type": "stream",
          "text": [
            "<class 'pandas.core.frame.DataFrame'>\n",
            "RangeIndex: 188340 entries, 0 to 188339\n",
            "Data columns (total 10 columns):\n",
            " #   Column         Non-Null Count   Dtype         \n",
            "---  ------         --------------   -----         \n",
            " 0   ID             188340 non-null  object        \n",
            " 1   Store_id       188340 non-null  int64         \n",
            " 2   Store_Type     188340 non-null  category      \n",
            " 3   Location_Type  188340 non-null  category      \n",
            " 4   Region_Code    188340 non-null  category      \n",
            " 5   Date           188340 non-null  datetime64[ns]\n",
            " 6   Holiday        188340 non-null  int64         \n",
            " 7   Discount       188340 non-null  category      \n",
            " 8   #Order         188340 non-null  int64         \n",
            " 9   Sales          188340 non-null  float64       \n",
            "dtypes: category(4), datetime64[ns](1), float64(1), int64(3), object(1)\n",
            "memory usage: 9.3+ MB\n"
          ]
        }
      ],
      "source": [
        "train_df.info()"
      ]
    },
    {
      "cell_type": "markdown",
      "metadata": {
        "id": "7CsCQL3KZdI7"
      },
      "source": [
        "Handle Outliers:"
      ]
    },
    {
      "cell_type": "code",
      "execution_count": null,
      "metadata": {
        "id": "LQv2n1AkZVXf"
      },
      "outputs": [],
      "source": [
        "# Remove outliers using quantiles (optional)\n",
        "Q1 = train_df['Sales'].quantile(0.25)\n",
        "Q3 = train_df['Sales'].quantile(0.75)\n",
        "IQR = Q3 - Q1\n",
        "df = train_df[(train_df['Sales'] >= (Q1 - 1.5 * IQR)) & (train_df['Sales'] <= (Q3 + 1.5 * IQR))]\n"
      ]
    },
    {
      "cell_type": "markdown",
      "metadata": {
        "id": "UnGHQhqYaRQq"
      },
      "source": [
        "●\tFeature Engineering: Develop new features that could enhance the model's predictive power, such as time-based aggregates (e.g., sales in the last week), ratios, or interaction terms between features."
      ]
    },
    {
      "cell_type": "markdown",
      "metadata": {
        "id": "i17qyf38a4If"
      },
      "source": [
        "1. Time-Based Aggregates"
      ]
    },
    {
      "cell_type": "markdown",
      "metadata": {
        "id": "2KhKSJLCbIxx"
      },
      "source": [
        "Rolling Sales and Orders:\n"
      ]
    },
    {
      "cell_type": "code",
      "execution_count": null,
      "metadata": {
        "id": "05UlOD55bVhU"
      },
      "outputs": [],
      "source": [
        "# Rolling sales and orders (last 7, 14, 30 days) for each store\n",
        "train_df = train_df.sort_values(by=['Store_id', 'Date'])\n",
        "train_df['Sales_7d'] = train_df.groupby('Store_id')['Sales'].transform(lambda x: x.rolling(7, min_periods=1).sum())\n",
        "train_df['Sales_14d'] = train_df.groupby('Store_id')['Sales'].transform(lambda x: x.rolling(14, min_periods=1).sum())\n",
        "train_df['Sales_30d'] = train_df.groupby('Store_id')['Sales'].transform(lambda x: x.rolling(30, min_periods=1).sum())\n"
      ]
    },
    {
      "cell_type": "code",
      "execution_count": null,
      "metadata": {
        "id": "W2MW37X1bspR"
      },
      "outputs": [],
      "source": [
        "train_df['Orders_7d'] = train_df.groupby('Store_id')['#Order'].transform(lambda x: x.rolling(7, min_periods=1).sum())\n",
        "train_df['Orders_14d'] = train_df.groupby('Store_id')['#Order'].transform(lambda x: x.rolling(14, min_periods=1).sum())\n",
        "train_df['Orders_30d'] = train_df.groupby('Store_id')['#Order'].transform(lambda x: x.rolling(30, min_periods=1).sum())\n"
      ]
    },
    {
      "cell_type": "markdown",
      "metadata": {
        "id": "vGb0nIrtbNCZ"
      },
      "source": [
        "Lag Features:"
      ]
    },
    {
      "cell_type": "code",
      "execution_count": null,
      "metadata": {
        "id": "UrUOBJN_bWTA"
      },
      "outputs": [],
      "source": [
        "train_df['Sales_Lag_1'] = train_df.groupby('Store_id')['Sales'].shift(1)\n",
        "train_df['Sales_Lag_7'] = train_df.groupby('Store_id')['Sales'].shift(7)\n",
        "train_df['Orders_Lag_1'] = train_df.groupby('Store_id')['#Order'].shift(1)\n",
        "train_df['Orders_Lag_7'] = train_df.groupby('Store_id')['#Order'].shift(7)"
      ]
    },
    {
      "cell_type": "markdown",
      "metadata": {
        "id": "kCIuoGulbP_W"
      },
      "source": [
        "Cumulative Sales:"
      ]
    },
    {
      "cell_type": "code",
      "execution_count": null,
      "metadata": {
        "id": "SAjHTWZEZfse"
      },
      "outputs": [],
      "source": [
        "# Cumulative Sales and Orders per store\n",
        "train_df['Cumulative_Sales'] = train_df.groupby('Store_id')['Sales'].cumsum()\n",
        "train_df['Cumulative_Orders'] = train_df.groupby('Store_id')['#Order'].cumsum()"
      ]
    },
    {
      "cell_type": "markdown",
      "metadata": {
        "id": "4cn7-qLfcbEn"
      },
      "source": [
        "2. Discount-Related Features"
      ]
    },
    {
      "cell_type": "code",
      "execution_count": null,
      "metadata": {
        "id": "x5SOyl_DcPxQ"
      },
      "outputs": [],
      "source": [
        "# Discount duration (number of consecutive days of discount)\n",
        "train_df['Discount_Duration'] = train_df.groupby(['Store_id', 'Discount'])['Date'].transform(lambda x: (x.diff().dt.days != 1).cumsum())"
      ]
    },
    {
      "cell_type": "code",
      "execution_count": null,
      "metadata": {
        "id": "mpTKgy6CcktV"
      },
      "outputs": [],
      "source": [
        "# Discount and holiday interaction term\n",
        "train_df['Discount_and_Holiday'] = train_df['Discount'].astype(str) + '_' + train_df['Holiday'].astype(str)"
      ]
    },
    {
      "cell_type": "markdown",
      "metadata": {
        "id": "R7JHrrqMcxbn"
      },
      "source": [
        "3. Store-Based Aggregates"
      ]
    },
    {
      "cell_type": "code",
      "execution_count": null,
      "metadata": {
        "id": "XALYAik5cs-s"
      },
      "outputs": [],
      "source": [
        "# Store-specific rolling averages\n",
        "train_df['Store_Sales_7d'] = train_df.groupby(['Store_id'])['Sales'].transform(lambda x: x.rolling(7, min_periods=1).mean())\n",
        "train_df['Store_Orders_7d'] = train_df.groupby(['Store_id'])['#Order'].transform(lambda x: x.rolling(7, min_periods=1).mean())\n"
      ]
    },
    {
      "cell_type": "code",
      "execution_count": null,
      "metadata": {
        "id": "fUN_4degdKAt"
      },
      "outputs": [],
      "source": [
        "# Aggregates based on Store_Type, Location_Type, and Region_Code\n",
        "train_df['Avg_Sales_Store_Type'] = train_df.groupby('Store_Type')['Sales'].transform('mean')\n",
        "train_df['Avg_Sales_Location_Type'] = train_df.groupby('Location_Type')['Sales'].transform('mean')\n",
        "train_df['Avg_Sales_Region_Code'] = train_df.groupby('Region_Code')['Sales'].transform('mean')\n"
      ]
    },
    {
      "cell_type": "markdown",
      "metadata": {
        "id": "Jplo_I9ZdYwb"
      },
      "source": [
        "4. Ratios and Interaction Terms"
      ]
    },
    {
      "cell_type": "code",
      "execution_count": null,
      "metadata": {
        "id": "HxX_hazWdNuQ"
      },
      "outputs": [],
      "source": [
        "#Order-to-Sales ratio\n",
        "train_df['Order_to_Sales_Ratio'] = train_df['#Order'] / (train_df['Sales'] + 1e-5)  # adding small value to avoid division by zero\n",
        "\n",
        "# Discount to Sales ratio over last 30 days\n",
        "train_df['Discount_to_Sales_30d'] = train_df.groupby(['Store_id', 'Discount'])['Sales'].transform(lambda x: x.rolling(30, min_periods=1).mean())\n",
        "\n",
        "# Holiday interaction terms\n",
        "train_df['Holiday_and_Location_Type'] = train_df['Holiday'].astype(str) + '_' + train_df['Location_Type'].astype(str)\n",
        "train_df['Holiday_and_Store_Type'] = train_df['Holiday'].astype(str) + '_' + train_df['Store_Type'].astype(str)\n"
      ]
    },
    {
      "cell_type": "markdown",
      "metadata": {
        "id": "JoE8SdNgd3zh"
      },
      "source": [
        "5. Temporal Features"
      ]
    },
    {
      "cell_type": "code",
      "execution_count": null,
      "metadata": {
        "id": "3KOuviYwdyuL"
      },
      "outputs": [],
      "source": [
        "# Extract day, month, week of year, and day of week\n",
        "train_df['Day'] = train_df['Date'].dt.day\n",
        "train_df['Month'] = train_df['Date'].dt.month\n",
        "train_df['WeekOfYear'] = train_df['Date'].dt.isocalendar().week\n",
        "train_df['DayOfWeek'] = train_df['Date'].dt.dayofweek  # 0 = Monday, 6 = Sunday"
      ]
    },
    {
      "cell_type": "code",
      "execution_count": null,
      "metadata": {
        "id": "k85gnPQQeRW2"
      },
      "outputs": [],
      "source": [
        "# Flags for month start and end\n",
        "train_df['Is_Month_End'] = train_df['Date'].dt.is_month_end.astype(int)\n",
        "train_df['Is_Month_Start'] = train_df['Date'].dt.is_month_start.astype(int)"
      ]
    },
    {
      "cell_type": "code",
      "execution_count": null,
      "metadata": {
        "colab": {
          "base_uri": "https://localhost:8080/",
          "height": 342
        },
        "id": "G8_88PV2eTlC",
        "outputId": "88aa4a49-ce30-401d-a0cf-bf82fc576336"
      },
      "outputs": [
        {
          "data": {
            "application/vnd.google.colaboratory.intrinsic+json": {
              "type": "dataframe",
              "variable_name": "train_df"
            },
            "text/html": [
              "\n",
              "  <div id=\"df-4676493e-b261-4351-b0b5-0fadb124346a\" class=\"colab-df-container\">\n",
              "    <div>\n",
              "<style scoped>\n",
              "    .dataframe tbody tr th:only-of-type {\n",
              "        vertical-align: middle;\n",
              "    }\n",
              "\n",
              "    .dataframe tbody tr th {\n",
              "        vertical-align: top;\n",
              "    }\n",
              "\n",
              "    .dataframe thead th {\n",
              "        text-align: right;\n",
              "    }\n",
              "</style>\n",
              "<table border=\"1\" class=\"dataframe\">\n",
              "  <thead>\n",
              "    <tr style=\"text-align: right;\">\n",
              "      <th></th>\n",
              "      <th>ID</th>\n",
              "      <th>Store_id</th>\n",
              "      <th>Store_Type</th>\n",
              "      <th>Location_Type</th>\n",
              "      <th>Region_Code</th>\n",
              "      <th>Date</th>\n",
              "      <th>Holiday</th>\n",
              "      <th>Discount</th>\n",
              "      <th>#Order</th>\n",
              "      <th>Sales</th>\n",
              "      <th>...</th>\n",
              "      <th>Order_to_Sales_Ratio</th>\n",
              "      <th>Discount_to_Sales_30d</th>\n",
              "      <th>Holiday_and_Location_Type</th>\n",
              "      <th>Holiday_and_Store_Type</th>\n",
              "      <th>Day</th>\n",
              "      <th>Month</th>\n",
              "      <th>WeekOfYear</th>\n",
              "      <th>DayOfWeek</th>\n",
              "      <th>Is_Month_End</th>\n",
              "      <th>Is_Month_Start</th>\n",
              "    </tr>\n",
              "  </thead>\n",
              "  <tbody>\n",
              "    <tr>\n",
              "      <th>0</th>\n",
              "      <td>T1000001</td>\n",
              "      <td>1</td>\n",
              "      <td>S1</td>\n",
              "      <td>L3</td>\n",
              "      <td>R1</td>\n",
              "      <td>2018-01-01</td>\n",
              "      <td>1</td>\n",
              "      <td>Yes</td>\n",
              "      <td>9</td>\n",
              "      <td>7011.84</td>\n",
              "      <td>...</td>\n",
              "      <td>0.001284</td>\n",
              "      <td>7011.840</td>\n",
              "      <td>1_L3</td>\n",
              "      <td>1_S1</td>\n",
              "      <td>1</td>\n",
              "      <td>1</td>\n",
              "      <td>1</td>\n",
              "      <td>0</td>\n",
              "      <td>0</td>\n",
              "      <td>1</td>\n",
              "    </tr>\n",
              "    <tr>\n",
              "      <th>607</th>\n",
              "      <td>T1000608</td>\n",
              "      <td>1</td>\n",
              "      <td>S1</td>\n",
              "      <td>L3</td>\n",
              "      <td>R1</td>\n",
              "      <td>2018-01-02</td>\n",
              "      <td>0</td>\n",
              "      <td>Yes</td>\n",
              "      <td>60</td>\n",
              "      <td>42369.00</td>\n",
              "      <td>...</td>\n",
              "      <td>0.001416</td>\n",
              "      <td>24690.420</td>\n",
              "      <td>0_L3</td>\n",
              "      <td>0_S1</td>\n",
              "      <td>2</td>\n",
              "      <td>1</td>\n",
              "      <td>1</td>\n",
              "      <td>1</td>\n",
              "      <td>0</td>\n",
              "      <td>0</td>\n",
              "    </tr>\n",
              "    <tr>\n",
              "      <th>1046</th>\n",
              "      <td>T1001047</td>\n",
              "      <td>1</td>\n",
              "      <td>S1</td>\n",
              "      <td>L3</td>\n",
              "      <td>R1</td>\n",
              "      <td>2018-01-03</td>\n",
              "      <td>0</td>\n",
              "      <td>Yes</td>\n",
              "      <td>72</td>\n",
              "      <td>50037.00</td>\n",
              "      <td>...</td>\n",
              "      <td>0.001439</td>\n",
              "      <td>33139.280</td>\n",
              "      <td>0_L3</td>\n",
              "      <td>0_S1</td>\n",
              "      <td>3</td>\n",
              "      <td>1</td>\n",
              "      <td>1</td>\n",
              "      <td>2</td>\n",
              "      <td>0</td>\n",
              "      <td>0</td>\n",
              "    </tr>\n",
              "    <tr>\n",
              "      <th>1207</th>\n",
              "      <td>T1001208</td>\n",
              "      <td>1</td>\n",
              "      <td>S1</td>\n",
              "      <td>L3</td>\n",
              "      <td>R1</td>\n",
              "      <td>2018-01-04</td>\n",
              "      <td>0</td>\n",
              "      <td>Yes</td>\n",
              "      <td>64</td>\n",
              "      <td>44397.00</td>\n",
              "      <td>...</td>\n",
              "      <td>0.001442</td>\n",
              "      <td>35953.710</td>\n",
              "      <td>0_L3</td>\n",
              "      <td>0_S1</td>\n",
              "      <td>4</td>\n",
              "      <td>1</td>\n",
              "      <td>1</td>\n",
              "      <td>3</td>\n",
              "      <td>0</td>\n",
              "      <td>0</td>\n",
              "    </tr>\n",
              "    <tr>\n",
              "      <th>1752</th>\n",
              "      <td>T1001753</td>\n",
              "      <td>1</td>\n",
              "      <td>S1</td>\n",
              "      <td>L3</td>\n",
              "      <td>R1</td>\n",
              "      <td>2018-01-05</td>\n",
              "      <td>0</td>\n",
              "      <td>Yes</td>\n",
              "      <td>63</td>\n",
              "      <td>47604.00</td>\n",
              "      <td>...</td>\n",
              "      <td>0.001323</td>\n",
              "      <td>38283.768</td>\n",
              "      <td>0_L3</td>\n",
              "      <td>0_S1</td>\n",
              "      <td>5</td>\n",
              "      <td>1</td>\n",
              "      <td>1</td>\n",
              "      <td>4</td>\n",
              "      <td>0</td>\n",
              "      <td>0</td>\n",
              "    </tr>\n",
              "  </tbody>\n",
              "</table>\n",
              "<p>5 rows × 39 columns</p>\n",
              "</div>\n",
              "    <div class=\"colab-df-buttons\">\n",
              "\n",
              "  <div class=\"colab-df-container\">\n",
              "    <button class=\"colab-df-convert\" onclick=\"convertToInteractive('df-4676493e-b261-4351-b0b5-0fadb124346a')\"\n",
              "            title=\"Convert this dataframe to an interactive table.\"\n",
              "            style=\"display:none;\">\n",
              "\n",
              "  <svg xmlns=\"http://www.w3.org/2000/svg\" height=\"24px\" viewBox=\"0 -960 960 960\">\n",
              "    <path d=\"M120-120v-720h720v720H120Zm60-500h600v-160H180v160Zm220 220h160v-160H400v160Zm0 220h160v-160H400v160ZM180-400h160v-160H180v160Zm440 0h160v-160H620v160ZM180-180h160v-160H180v160Zm440 0h160v-160H620v160Z\"/>\n",
              "  </svg>\n",
              "    </button>\n",
              "\n",
              "  <style>\n",
              "    .colab-df-container {\n",
              "      display:flex;\n",
              "      gap: 12px;\n",
              "    }\n",
              "\n",
              "    .colab-df-convert {\n",
              "      background-color: #E8F0FE;\n",
              "      border: none;\n",
              "      border-radius: 50%;\n",
              "      cursor: pointer;\n",
              "      display: none;\n",
              "      fill: #1967D2;\n",
              "      height: 32px;\n",
              "      padding: 0 0 0 0;\n",
              "      width: 32px;\n",
              "    }\n",
              "\n",
              "    .colab-df-convert:hover {\n",
              "      background-color: #E2EBFA;\n",
              "      box-shadow: 0px 1px 2px rgba(60, 64, 67, 0.3), 0px 1px 3px 1px rgba(60, 64, 67, 0.15);\n",
              "      fill: #174EA6;\n",
              "    }\n",
              "\n",
              "    .colab-df-buttons div {\n",
              "      margin-bottom: 4px;\n",
              "    }\n",
              "\n",
              "    [theme=dark] .colab-df-convert {\n",
              "      background-color: #3B4455;\n",
              "      fill: #D2E3FC;\n",
              "    }\n",
              "\n",
              "    [theme=dark] .colab-df-convert:hover {\n",
              "      background-color: #434B5C;\n",
              "      box-shadow: 0px 1px 3px 1px rgba(0, 0, 0, 0.15);\n",
              "      filter: drop-shadow(0px 1px 2px rgba(0, 0, 0, 0.3));\n",
              "      fill: #FFFFFF;\n",
              "    }\n",
              "  </style>\n",
              "\n",
              "    <script>\n",
              "      const buttonEl =\n",
              "        document.querySelector('#df-4676493e-b261-4351-b0b5-0fadb124346a button.colab-df-convert');\n",
              "      buttonEl.style.display =\n",
              "        google.colab.kernel.accessAllowed ? 'block' : 'none';\n",
              "\n",
              "      async function convertToInteractive(key) {\n",
              "        const element = document.querySelector('#df-4676493e-b261-4351-b0b5-0fadb124346a');\n",
              "        const dataTable =\n",
              "          await google.colab.kernel.invokeFunction('convertToInteractive',\n",
              "                                                    [key], {});\n",
              "        if (!dataTable) return;\n",
              "\n",
              "        const docLinkHtml = 'Like what you see? Visit the ' +\n",
              "          '<a target=\"_blank\" href=https://colab.research.google.com/notebooks/data_table.ipynb>data table notebook</a>'\n",
              "          + ' to learn more about interactive tables.';\n",
              "        element.innerHTML = '';\n",
              "        dataTable['output_type'] = 'display_data';\n",
              "        await google.colab.output.renderOutput(dataTable, element);\n",
              "        const docLink = document.createElement('div');\n",
              "        docLink.innerHTML = docLinkHtml;\n",
              "        element.appendChild(docLink);\n",
              "      }\n",
              "    </script>\n",
              "  </div>\n",
              "\n",
              "\n",
              "<div id=\"df-af2dbb30-72ef-426d-9543-d641b7af18f3\">\n",
              "  <button class=\"colab-df-quickchart\" onclick=\"quickchart('df-af2dbb30-72ef-426d-9543-d641b7af18f3')\"\n",
              "            title=\"Suggest charts\"\n",
              "            style=\"display:none;\">\n",
              "\n",
              "<svg xmlns=\"http://www.w3.org/2000/svg\" height=\"24px\"viewBox=\"0 0 24 24\"\n",
              "     width=\"24px\">\n",
              "    <g>\n",
              "        <path d=\"M19 3H5c-1.1 0-2 .9-2 2v14c0 1.1.9 2 2 2h14c1.1 0 2-.9 2-2V5c0-1.1-.9-2-2-2zM9 17H7v-7h2v7zm4 0h-2V7h2v10zm4 0h-2v-4h2v4z\"/>\n",
              "    </g>\n",
              "</svg>\n",
              "  </button>\n",
              "\n",
              "<style>\n",
              "  .colab-df-quickchart {\n",
              "      --bg-color: #E8F0FE;\n",
              "      --fill-color: #1967D2;\n",
              "      --hover-bg-color: #E2EBFA;\n",
              "      --hover-fill-color: #174EA6;\n",
              "      --disabled-fill-color: #AAA;\n",
              "      --disabled-bg-color: #DDD;\n",
              "  }\n",
              "\n",
              "  [theme=dark] .colab-df-quickchart {\n",
              "      --bg-color: #3B4455;\n",
              "      --fill-color: #D2E3FC;\n",
              "      --hover-bg-color: #434B5C;\n",
              "      --hover-fill-color: #FFFFFF;\n",
              "      --disabled-bg-color: #3B4455;\n",
              "      --disabled-fill-color: #666;\n",
              "  }\n",
              "\n",
              "  .colab-df-quickchart {\n",
              "    background-color: var(--bg-color);\n",
              "    border: none;\n",
              "    border-radius: 50%;\n",
              "    cursor: pointer;\n",
              "    display: none;\n",
              "    fill: var(--fill-color);\n",
              "    height: 32px;\n",
              "    padding: 0;\n",
              "    width: 32px;\n",
              "  }\n",
              "\n",
              "  .colab-df-quickchart:hover {\n",
              "    background-color: var(--hover-bg-color);\n",
              "    box-shadow: 0 1px 2px rgba(60, 64, 67, 0.3), 0 1px 3px 1px rgba(60, 64, 67, 0.15);\n",
              "    fill: var(--button-hover-fill-color);\n",
              "  }\n",
              "\n",
              "  .colab-df-quickchart-complete:disabled,\n",
              "  .colab-df-quickchart-complete:disabled:hover {\n",
              "    background-color: var(--disabled-bg-color);\n",
              "    fill: var(--disabled-fill-color);\n",
              "    box-shadow: none;\n",
              "  }\n",
              "\n",
              "  .colab-df-spinner {\n",
              "    border: 2px solid var(--fill-color);\n",
              "    border-color: transparent;\n",
              "    border-bottom-color: var(--fill-color);\n",
              "    animation:\n",
              "      spin 1s steps(1) infinite;\n",
              "  }\n",
              "\n",
              "  @keyframes spin {\n",
              "    0% {\n",
              "      border-color: transparent;\n",
              "      border-bottom-color: var(--fill-color);\n",
              "      border-left-color: var(--fill-color);\n",
              "    }\n",
              "    20% {\n",
              "      border-color: transparent;\n",
              "      border-left-color: var(--fill-color);\n",
              "      border-top-color: var(--fill-color);\n",
              "    }\n",
              "    30% {\n",
              "      border-color: transparent;\n",
              "      border-left-color: var(--fill-color);\n",
              "      border-top-color: var(--fill-color);\n",
              "      border-right-color: var(--fill-color);\n",
              "    }\n",
              "    40% {\n",
              "      border-color: transparent;\n",
              "      border-right-color: var(--fill-color);\n",
              "      border-top-color: var(--fill-color);\n",
              "    }\n",
              "    60% {\n",
              "      border-color: transparent;\n",
              "      border-right-color: var(--fill-color);\n",
              "    }\n",
              "    80% {\n",
              "      border-color: transparent;\n",
              "      border-right-color: var(--fill-color);\n",
              "      border-bottom-color: var(--fill-color);\n",
              "    }\n",
              "    90% {\n",
              "      border-color: transparent;\n",
              "      border-bottom-color: var(--fill-color);\n",
              "    }\n",
              "  }\n",
              "</style>\n",
              "\n",
              "  <script>\n",
              "    async function quickchart(key) {\n",
              "      const quickchartButtonEl =\n",
              "        document.querySelector('#' + key + ' button');\n",
              "      quickchartButtonEl.disabled = true;  // To prevent multiple clicks.\n",
              "      quickchartButtonEl.classList.add('colab-df-spinner');\n",
              "      try {\n",
              "        const charts = await google.colab.kernel.invokeFunction(\n",
              "            'suggestCharts', [key], {});\n",
              "      } catch (error) {\n",
              "        console.error('Error during call to suggestCharts:', error);\n",
              "      }\n",
              "      quickchartButtonEl.classList.remove('colab-df-spinner');\n",
              "      quickchartButtonEl.classList.add('colab-df-quickchart-complete');\n",
              "    }\n",
              "    (() => {\n",
              "      let quickchartButtonEl =\n",
              "        document.querySelector('#df-af2dbb30-72ef-426d-9543-d641b7af18f3 button');\n",
              "      quickchartButtonEl.style.display =\n",
              "        google.colab.kernel.accessAllowed ? 'block' : 'none';\n",
              "    })();\n",
              "  </script>\n",
              "</div>\n",
              "\n",
              "    </div>\n",
              "  </div>\n"
            ],
            "text/plain": [
              "            ID  Store_id Store_Type Location_Type Region_Code       Date  \\\n",
              "0     T1000001         1         S1            L3          R1 2018-01-01   \n",
              "607   T1000608         1         S1            L3          R1 2018-01-02   \n",
              "1046  T1001047         1         S1            L3          R1 2018-01-03   \n",
              "1207  T1001208         1         S1            L3          R1 2018-01-04   \n",
              "1752  T1001753         1         S1            L3          R1 2018-01-05   \n",
              "\n",
              "      Holiday Discount  #Order     Sales  ...  Order_to_Sales_Ratio  \\\n",
              "0           1      Yes       9   7011.84  ...              0.001284   \n",
              "607         0      Yes      60  42369.00  ...              0.001416   \n",
              "1046        0      Yes      72  50037.00  ...              0.001439   \n",
              "1207        0      Yes      64  44397.00  ...              0.001442   \n",
              "1752        0      Yes      63  47604.00  ...              0.001323   \n",
              "\n",
              "      Discount_to_Sales_30d  Holiday_and_Location_Type  \\\n",
              "0                  7011.840                       1_L3   \n",
              "607               24690.420                       0_L3   \n",
              "1046              33139.280                       0_L3   \n",
              "1207              35953.710                       0_L3   \n",
              "1752              38283.768                       0_L3   \n",
              "\n",
              "      Holiday_and_Store_Type  Day  Month  WeekOfYear  DayOfWeek  Is_Month_End  \\\n",
              "0                       1_S1    1      1           1          0             0   \n",
              "607                     0_S1    2      1           1          1             0   \n",
              "1046                    0_S1    3      1           1          2             0   \n",
              "1207                    0_S1    4      1           1          3             0   \n",
              "1752                    0_S1    5      1           1          4             0   \n",
              "\n",
              "      Is_Month_Start  \n",
              "0                  1  \n",
              "607                0  \n",
              "1046               0  \n",
              "1207               0  \n",
              "1752               0  \n",
              "\n",
              "[5 rows x 39 columns]"
            ]
          },
          "execution_count": 24,
          "metadata": {},
          "output_type": "execute_result"
        }
      ],
      "source": [
        "# Display the DataFrame with new features\n",
        "train_df.head()"
      ]
    },
    {
      "cell_type": "code",
      "execution_count": null,
      "metadata": {
        "colab": {
          "base_uri": "https://localhost:8080/"
        },
        "id": "Z86itMx6YgDF",
        "outputId": "4617bbeb-71c6-4733-f6c6-9cce6902ac80"
      },
      "outputs": [
        {
          "data": {
            "text/plain": [
              "Index(['ID', 'Store_id', 'Store_Type', 'Location_Type', 'Region_Code', 'Date',\n",
              "       'Holiday', 'Discount', '#Order', 'Sales', 'Sales_7d', 'Sales_14d',\n",
              "       'Sales_30d', 'Orders_7d', 'Orders_14d', 'Orders_30d', 'Sales_Lag_1',\n",
              "       'Sales_Lag_7', 'Orders_Lag_1', 'Orders_Lag_7', 'Cumulative_Sales',\n",
              "       'Cumulative_Orders', 'Discount_Duration', 'Discount_and_Holiday',\n",
              "       'Store_Sales_7d', 'Store_Orders_7d', 'Avg_Sales_Store_Type',\n",
              "       'Avg_Sales_Location_Type', 'Avg_Sales_Region_Code',\n",
              "       'Order_to_Sales_Ratio', 'Discount_to_Sales_30d',\n",
              "       'Holiday_and_Location_Type', 'Holiday_and_Store_Type', 'Day', 'Month',\n",
              "       'WeekOfYear', 'DayOfWeek', 'Is_Month_End', 'Is_Month_Start'],\n",
              "      dtype='object')"
            ]
          },
          "execution_count": 25,
          "metadata": {},
          "output_type": "execute_result"
        }
      ],
      "source": [
        "train_df.columns"
      ]
    },
    {
      "cell_type": "markdown",
      "metadata": {
        "id": "xQGj5gz3hiQo"
      },
      "source": [
        "●\tData Transformation: Scale numerical features and encode categorical variables to prepare the data for modeling. Techniques like normalization or standardization and one-hot encoding or label encoding can be applied."
      ]
    },
    {
      "cell_type": "code",
      "execution_count": null,
      "metadata": {
        "id": "2StLdO8teUUR"
      },
      "outputs": [],
      "source": [
        "from sklearn.preprocessing import StandardScaler, OneHotEncoder\n",
        "from sklearn.compose import ColumnTransformer\n",
        "from sklearn.pipeline import Pipeline"
      ]
    },
    {
      "cell_type": "code",
      "execution_count": null,
      "metadata": {
        "id": "KnWzF0MKhhtF"
      },
      "outputs": [],
      "source": [
        "# List of numerical and categorical columns\n",
        "numerical_features = ['#Order', 'Sales', 'Sales_7d', 'Sales_14d', 'Sales_30d',\n",
        "                      'Orders_7d', 'Orders_14d', 'Orders_30d', 'Sales_Lag_1', 'Sales_Lag_7',\n",
        "                      'Orders_Lag_1', 'Orders_Lag_7', 'Cumulative_Sales', 'Cumulative_Orders',\n",
        "                      'Order_to_Sales_Ratio', 'Discount_to_Sales_30d',\n",
        "                      'Store_Sales_7d', 'Store_Orders_7d', 'Avg_Sales_Store_Type',\n",
        "                      'Avg_Sales_Location_Type', 'Avg_Sales_Region_Code',\n",
        "                      'Day', 'Month', 'WeekOfYear', 'DayOfWeek']\n",
        "\n",
        "categorical_features = ['Store_Type', 'Location_Type', 'Region_Code',\n",
        "                        'Discount', 'Discount_and_Holiday', 'Holiday_and_Location_Type',\n",
        "                        'Holiday_and_Store_Type']"
      ]
    },
    {
      "cell_type": "code",
      "execution_count": null,
      "metadata": {
        "id": "Q8e2qoDshpYf"
      },
      "outputs": [],
      "source": [
        "# Pipeline for numerical features (Standardization)\n",
        "numerical_transformer = StandardScaler()\n",
        "\n",
        "# Pipeline for categorical features (One-hot encoding)\n",
        "categorical_transformer = OneHotEncoder(drop='first', sparse_output=False)"
      ]
    },
    {
      "cell_type": "code",
      "execution_count": null,
      "metadata": {
        "id": "lQqw-CVEhtbS"
      },
      "outputs": [],
      "source": [
        "# Combine transformations into a ColumnTransformer\n",
        "preprocessor = ColumnTransformer(\n",
        "    transformers=[\n",
        "        ('num', numerical_transformer, numerical_features),\n",
        "        ('cat', categorical_transformer, categorical_features)\n",
        "    ])"
      ]
    },
    {
      "cell_type": "code",
      "execution_count": null,
      "metadata": {
        "id": "y2YRn40XhxCm"
      },
      "outputs": [],
      "source": [
        "# Apply transformations\n",
        "train_df_preprocessed = preprocessor.fit_transform(train_df)"
      ]
    },
    {
      "cell_type": "code",
      "execution_count": null,
      "metadata": {
        "id": "6sSEmeHHh2I2"
      },
      "outputs": [],
      "source": [
        "# Convert the transformed data back to a DataFrame for easy inspection\n",
        "# Get column names for transformed categorical features\n",
        "cat_columns = preprocessor.named_transformers_['cat'].get_feature_names_out(categorical_features)"
      ]
    },
    {
      "cell_type": "code",
      "execution_count": null,
      "metadata": {
        "id": "u_zsn4sch7lx"
      },
      "outputs": [],
      "source": [
        "# Combine numerical and categorical columns\n",
        "transformed_columns = numerical_features + list(cat_columns)\n",
        "train_df_transformed = pd.DataFrame(train_df_preprocessed, columns=transformed_columns)"
      ]
    },
    {
      "cell_type": "code",
      "execution_count": null,
      "metadata": {
        "colab": {
          "base_uri": "https://localhost:8080/",
          "height": 255
        },
        "id": "R1pdN3IEiB5E",
        "outputId": "0b4d499d-7129-4268-ec54-01f6ee4581ab"
      },
      "outputs": [
        {
          "data": {
            "application/vnd.google.colaboratory.intrinsic+json": {
              "type": "dataframe",
              "variable_name": "train_df_transformed"
            },
            "text/html": [
              "\n",
              "  <div id=\"df-145b9eea-c0e6-4d2b-95bc-87b71e830a3b\" class=\"colab-df-container\">\n",
              "    <div>\n",
              "<style scoped>\n",
              "    .dataframe tbody tr th:only-of-type {\n",
              "        vertical-align: middle;\n",
              "    }\n",
              "\n",
              "    .dataframe tbody tr th {\n",
              "        vertical-align: top;\n",
              "    }\n",
              "\n",
              "    .dataframe thead th {\n",
              "        text-align: right;\n",
              "    }\n",
              "</style>\n",
              "<table border=\"1\" class=\"dataframe\">\n",
              "  <thead>\n",
              "    <tr style=\"text-align: right;\">\n",
              "      <th></th>\n",
              "      <th>#Order</th>\n",
              "      <th>Sales</th>\n",
              "      <th>Sales_7d</th>\n",
              "      <th>Sales_14d</th>\n",
              "      <th>Sales_30d</th>\n",
              "      <th>Orders_7d</th>\n",
              "      <th>Orders_14d</th>\n",
              "      <th>Orders_30d</th>\n",
              "      <th>Sales_Lag_1</th>\n",
              "      <th>Sales_Lag_7</th>\n",
              "      <th>...</th>\n",
              "      <th>Holiday_and_Location_Type_1_L3</th>\n",
              "      <th>Holiday_and_Location_Type_1_L4</th>\n",
              "      <th>Holiday_and_Location_Type_1_L5</th>\n",
              "      <th>Holiday_and_Store_Type_0_S2</th>\n",
              "      <th>Holiday_and_Store_Type_0_S3</th>\n",
              "      <th>Holiday_and_Store_Type_0_S4</th>\n",
              "      <th>Holiday_and_Store_Type_1_S1</th>\n",
              "      <th>Holiday_and_Store_Type_1_S2</th>\n",
              "      <th>Holiday_and_Store_Type_1_S3</th>\n",
              "      <th>Holiday_and_Store_Type_1_S4</th>\n",
              "    </tr>\n",
              "  </thead>\n",
              "  <tbody>\n",
              "    <tr>\n",
              "      <th>0</th>\n",
              "      <td>-1.943251</td>\n",
              "      <td>-1.938189</td>\n",
              "      <td>-2.761022</td>\n",
              "      <td>-2.881054</td>\n",
              "      <td>-2.845891</td>\n",
              "      <td>-2.531903</td>\n",
              "      <td>-2.578983</td>\n",
              "      <td>-2.523074</td>\n",
              "      <td>NaN</td>\n",
              "      <td>NaN</td>\n",
              "      <td>...</td>\n",
              "      <td>1.0</td>\n",
              "      <td>0.0</td>\n",
              "      <td>0.0</td>\n",
              "      <td>0.0</td>\n",
              "      <td>0.0</td>\n",
              "      <td>0.0</td>\n",
              "      <td>1.0</td>\n",
              "      <td>0.0</td>\n",
              "      <td>0.0</td>\n",
              "      <td>0.0</td>\n",
              "    </tr>\n",
              "    <tr>\n",
              "      <th>1</th>\n",
              "      <td>-0.269328</td>\n",
              "      <td>-0.022503</td>\n",
              "      <td>-2.358502</td>\n",
              "      <td>-2.671964</td>\n",
              "      <td>-2.748350</td>\n",
              "      <td>-2.205677</td>\n",
              "      <td>-2.413254</td>\n",
              "      <td>-2.446500</td>\n",
              "      <td>-1.937765</td>\n",
              "      <td>NaN</td>\n",
              "      <td>...</td>\n",
              "      <td>0.0</td>\n",
              "      <td>0.0</td>\n",
              "      <td>0.0</td>\n",
              "      <td>0.0</td>\n",
              "      <td>0.0</td>\n",
              "      <td>0.0</td>\n",
              "      <td>0.0</td>\n",
              "      <td>0.0</td>\n",
              "      <td>0.0</td>\n",
              "      <td>0.0</td>\n",
              "    </tr>\n",
              "    <tr>\n",
              "      <th>2</th>\n",
              "      <td>0.124537</td>\n",
              "      <td>0.392957</td>\n",
              "      <td>-1.883133</td>\n",
              "      <td>-2.425032</td>\n",
              "      <td>-2.633156</td>\n",
              "      <td>-1.814205</td>\n",
              "      <td>-2.214379</td>\n",
              "      <td>-2.354611</td>\n",
              "      <td>-0.022502</td>\n",
              "      <td>NaN</td>\n",
              "      <td>...</td>\n",
              "      <td>0.0</td>\n",
              "      <td>0.0</td>\n",
              "      <td>0.0</td>\n",
              "      <td>0.0</td>\n",
              "      <td>0.0</td>\n",
              "      <td>0.0</td>\n",
              "      <td>0.0</td>\n",
              "      <td>0.0</td>\n",
              "      <td>0.0</td>\n",
              "      <td>0.0</td>\n",
              "    </tr>\n",
              "    <tr>\n",
              "      <th>3</th>\n",
              "      <td>-0.138039</td>\n",
              "      <td>0.087376</td>\n",
              "      <td>-1.461346</td>\n",
              "      <td>-2.205934</td>\n",
              "      <td>-2.530946</td>\n",
              "      <td>-1.466231</td>\n",
              "      <td>-2.037601</td>\n",
              "      <td>-2.272932</td>\n",
              "      <td>0.392866</td>\n",
              "      <td>NaN</td>\n",
              "      <td>...</td>\n",
              "      <td>0.0</td>\n",
              "      <td>0.0</td>\n",
              "      <td>0.0</td>\n",
              "      <td>0.0</td>\n",
              "      <td>0.0</td>\n",
              "      <td>0.0</td>\n",
              "      <td>0.0</td>\n",
              "      <td>0.0</td>\n",
              "      <td>0.0</td>\n",
              "      <td>0.0</td>\n",
              "    </tr>\n",
              "    <tr>\n",
              "      <th>4</th>\n",
              "      <td>-0.170861</td>\n",
              "      <td>0.261135</td>\n",
              "      <td>-1.009092</td>\n",
              "      <td>-1.971010</td>\n",
              "      <td>-2.421353</td>\n",
              "      <td>-1.123693</td>\n",
              "      <td>-1.863586</td>\n",
              "      <td>-2.192530</td>\n",
              "      <td>0.087353</td>\n",
              "      <td>NaN</td>\n",
              "      <td>...</td>\n",
              "      <td>0.0</td>\n",
              "      <td>0.0</td>\n",
              "      <td>0.0</td>\n",
              "      <td>0.0</td>\n",
              "      <td>0.0</td>\n",
              "      <td>0.0</td>\n",
              "      <td>0.0</td>\n",
              "      <td>0.0</td>\n",
              "      <td>0.0</td>\n",
              "      <td>0.0</td>\n",
              "    </tr>\n",
              "  </tbody>\n",
              "</table>\n",
              "<p>5 rows × 55 columns</p>\n",
              "</div>\n",
              "    <div class=\"colab-df-buttons\">\n",
              "\n",
              "  <div class=\"colab-df-container\">\n",
              "    <button class=\"colab-df-convert\" onclick=\"convertToInteractive('df-145b9eea-c0e6-4d2b-95bc-87b71e830a3b')\"\n",
              "            title=\"Convert this dataframe to an interactive table.\"\n",
              "            style=\"display:none;\">\n",
              "\n",
              "  <svg xmlns=\"http://www.w3.org/2000/svg\" height=\"24px\" viewBox=\"0 -960 960 960\">\n",
              "    <path d=\"M120-120v-720h720v720H120Zm60-500h600v-160H180v160Zm220 220h160v-160H400v160Zm0 220h160v-160H400v160ZM180-400h160v-160H180v160Zm440 0h160v-160H620v160ZM180-180h160v-160H180v160Zm440 0h160v-160H620v160Z\"/>\n",
              "  </svg>\n",
              "    </button>\n",
              "\n",
              "  <style>\n",
              "    .colab-df-container {\n",
              "      display:flex;\n",
              "      gap: 12px;\n",
              "    }\n",
              "\n",
              "    .colab-df-convert {\n",
              "      background-color: #E8F0FE;\n",
              "      border: none;\n",
              "      border-radius: 50%;\n",
              "      cursor: pointer;\n",
              "      display: none;\n",
              "      fill: #1967D2;\n",
              "      height: 32px;\n",
              "      padding: 0 0 0 0;\n",
              "      width: 32px;\n",
              "    }\n",
              "\n",
              "    .colab-df-convert:hover {\n",
              "      background-color: #E2EBFA;\n",
              "      box-shadow: 0px 1px 2px rgba(60, 64, 67, 0.3), 0px 1px 3px 1px rgba(60, 64, 67, 0.15);\n",
              "      fill: #174EA6;\n",
              "    }\n",
              "\n",
              "    .colab-df-buttons div {\n",
              "      margin-bottom: 4px;\n",
              "    }\n",
              "\n",
              "    [theme=dark] .colab-df-convert {\n",
              "      background-color: #3B4455;\n",
              "      fill: #D2E3FC;\n",
              "    }\n",
              "\n",
              "    [theme=dark] .colab-df-convert:hover {\n",
              "      background-color: #434B5C;\n",
              "      box-shadow: 0px 1px 3px 1px rgba(0, 0, 0, 0.15);\n",
              "      filter: drop-shadow(0px 1px 2px rgba(0, 0, 0, 0.3));\n",
              "      fill: #FFFFFF;\n",
              "    }\n",
              "  </style>\n",
              "\n",
              "    <script>\n",
              "      const buttonEl =\n",
              "        document.querySelector('#df-145b9eea-c0e6-4d2b-95bc-87b71e830a3b button.colab-df-convert');\n",
              "      buttonEl.style.display =\n",
              "        google.colab.kernel.accessAllowed ? 'block' : 'none';\n",
              "\n",
              "      async function convertToInteractive(key) {\n",
              "        const element = document.querySelector('#df-145b9eea-c0e6-4d2b-95bc-87b71e830a3b');\n",
              "        const dataTable =\n",
              "          await google.colab.kernel.invokeFunction('convertToInteractive',\n",
              "                                                    [key], {});\n",
              "        if (!dataTable) return;\n",
              "\n",
              "        const docLinkHtml = 'Like what you see? Visit the ' +\n",
              "          '<a target=\"_blank\" href=https://colab.research.google.com/notebooks/data_table.ipynb>data table notebook</a>'\n",
              "          + ' to learn more about interactive tables.';\n",
              "        element.innerHTML = '';\n",
              "        dataTable['output_type'] = 'display_data';\n",
              "        await google.colab.output.renderOutput(dataTable, element);\n",
              "        const docLink = document.createElement('div');\n",
              "        docLink.innerHTML = docLinkHtml;\n",
              "        element.appendChild(docLink);\n",
              "      }\n",
              "    </script>\n",
              "  </div>\n",
              "\n",
              "\n",
              "<div id=\"df-4ccddd4f-a35f-457d-b797-63343ceef830\">\n",
              "  <button class=\"colab-df-quickchart\" onclick=\"quickchart('df-4ccddd4f-a35f-457d-b797-63343ceef830')\"\n",
              "            title=\"Suggest charts\"\n",
              "            style=\"display:none;\">\n",
              "\n",
              "<svg xmlns=\"http://www.w3.org/2000/svg\" height=\"24px\"viewBox=\"0 0 24 24\"\n",
              "     width=\"24px\">\n",
              "    <g>\n",
              "        <path d=\"M19 3H5c-1.1 0-2 .9-2 2v14c0 1.1.9 2 2 2h14c1.1 0 2-.9 2-2V5c0-1.1-.9-2-2-2zM9 17H7v-7h2v7zm4 0h-2V7h2v10zm4 0h-2v-4h2v4z\"/>\n",
              "    </g>\n",
              "</svg>\n",
              "  </button>\n",
              "\n",
              "<style>\n",
              "  .colab-df-quickchart {\n",
              "      --bg-color: #E8F0FE;\n",
              "      --fill-color: #1967D2;\n",
              "      --hover-bg-color: #E2EBFA;\n",
              "      --hover-fill-color: #174EA6;\n",
              "      --disabled-fill-color: #AAA;\n",
              "      --disabled-bg-color: #DDD;\n",
              "  }\n",
              "\n",
              "  [theme=dark] .colab-df-quickchart {\n",
              "      --bg-color: #3B4455;\n",
              "      --fill-color: #D2E3FC;\n",
              "      --hover-bg-color: #434B5C;\n",
              "      --hover-fill-color: #FFFFFF;\n",
              "      --disabled-bg-color: #3B4455;\n",
              "      --disabled-fill-color: #666;\n",
              "  }\n",
              "\n",
              "  .colab-df-quickchart {\n",
              "    background-color: var(--bg-color);\n",
              "    border: none;\n",
              "    border-radius: 50%;\n",
              "    cursor: pointer;\n",
              "    display: none;\n",
              "    fill: var(--fill-color);\n",
              "    height: 32px;\n",
              "    padding: 0;\n",
              "    width: 32px;\n",
              "  }\n",
              "\n",
              "  .colab-df-quickchart:hover {\n",
              "    background-color: var(--hover-bg-color);\n",
              "    box-shadow: 0 1px 2px rgba(60, 64, 67, 0.3), 0 1px 3px 1px rgba(60, 64, 67, 0.15);\n",
              "    fill: var(--button-hover-fill-color);\n",
              "  }\n",
              "\n",
              "  .colab-df-quickchart-complete:disabled,\n",
              "  .colab-df-quickchart-complete:disabled:hover {\n",
              "    background-color: var(--disabled-bg-color);\n",
              "    fill: var(--disabled-fill-color);\n",
              "    box-shadow: none;\n",
              "  }\n",
              "\n",
              "  .colab-df-spinner {\n",
              "    border: 2px solid var(--fill-color);\n",
              "    border-color: transparent;\n",
              "    border-bottom-color: var(--fill-color);\n",
              "    animation:\n",
              "      spin 1s steps(1) infinite;\n",
              "  }\n",
              "\n",
              "  @keyframes spin {\n",
              "    0% {\n",
              "      border-color: transparent;\n",
              "      border-bottom-color: var(--fill-color);\n",
              "      border-left-color: var(--fill-color);\n",
              "    }\n",
              "    20% {\n",
              "      border-color: transparent;\n",
              "      border-left-color: var(--fill-color);\n",
              "      border-top-color: var(--fill-color);\n",
              "    }\n",
              "    30% {\n",
              "      border-color: transparent;\n",
              "      border-left-color: var(--fill-color);\n",
              "      border-top-color: var(--fill-color);\n",
              "      border-right-color: var(--fill-color);\n",
              "    }\n",
              "    40% {\n",
              "      border-color: transparent;\n",
              "      border-right-color: var(--fill-color);\n",
              "      border-top-color: var(--fill-color);\n",
              "    }\n",
              "    60% {\n",
              "      border-color: transparent;\n",
              "      border-right-color: var(--fill-color);\n",
              "    }\n",
              "    80% {\n",
              "      border-color: transparent;\n",
              "      border-right-color: var(--fill-color);\n",
              "      border-bottom-color: var(--fill-color);\n",
              "    }\n",
              "    90% {\n",
              "      border-color: transparent;\n",
              "      border-bottom-color: var(--fill-color);\n",
              "    }\n",
              "  }\n",
              "</style>\n",
              "\n",
              "  <script>\n",
              "    async function quickchart(key) {\n",
              "      const quickchartButtonEl =\n",
              "        document.querySelector('#' + key + ' button');\n",
              "      quickchartButtonEl.disabled = true;  // To prevent multiple clicks.\n",
              "      quickchartButtonEl.classList.add('colab-df-spinner');\n",
              "      try {\n",
              "        const charts = await google.colab.kernel.invokeFunction(\n",
              "            'suggestCharts', [key], {});\n",
              "      } catch (error) {\n",
              "        console.error('Error during call to suggestCharts:', error);\n",
              "      }\n",
              "      quickchartButtonEl.classList.remove('colab-df-spinner');\n",
              "      quickchartButtonEl.classList.add('colab-df-quickchart-complete');\n",
              "    }\n",
              "    (() => {\n",
              "      let quickchartButtonEl =\n",
              "        document.querySelector('#df-4ccddd4f-a35f-457d-b797-63343ceef830 button');\n",
              "      quickchartButtonEl.style.display =\n",
              "        google.colab.kernel.accessAllowed ? 'block' : 'none';\n",
              "    })();\n",
              "  </script>\n",
              "</div>\n",
              "\n",
              "    </div>\n",
              "  </div>\n"
            ],
            "text/plain": [
              "     #Order     Sales  Sales_7d  Sales_14d  Sales_30d  Orders_7d  Orders_14d  \\\n",
              "0 -1.943251 -1.938189 -2.761022  -2.881054  -2.845891  -2.531903   -2.578983   \n",
              "1 -0.269328 -0.022503 -2.358502  -2.671964  -2.748350  -2.205677   -2.413254   \n",
              "2  0.124537  0.392957 -1.883133  -2.425032  -2.633156  -1.814205   -2.214379   \n",
              "3 -0.138039  0.087376 -1.461346  -2.205934  -2.530946  -1.466231   -2.037601   \n",
              "4 -0.170861  0.261135 -1.009092  -1.971010  -2.421353  -1.123693   -1.863586   \n",
              "\n",
              "   Orders_30d  Sales_Lag_1  Sales_Lag_7  ...  Holiday_and_Location_Type_1_L3  \\\n",
              "0   -2.523074          NaN          NaN  ...                             1.0   \n",
              "1   -2.446500    -1.937765          NaN  ...                             0.0   \n",
              "2   -2.354611    -0.022502          NaN  ...                             0.0   \n",
              "3   -2.272932     0.392866          NaN  ...                             0.0   \n",
              "4   -2.192530     0.087353          NaN  ...                             0.0   \n",
              "\n",
              "   Holiday_and_Location_Type_1_L4  Holiday_and_Location_Type_1_L5  \\\n",
              "0                             0.0                             0.0   \n",
              "1                             0.0                             0.0   \n",
              "2                             0.0                             0.0   \n",
              "3                             0.0                             0.0   \n",
              "4                             0.0                             0.0   \n",
              "\n",
              "   Holiday_and_Store_Type_0_S2  Holiday_and_Store_Type_0_S3  \\\n",
              "0                          0.0                          0.0   \n",
              "1                          0.0                          0.0   \n",
              "2                          0.0                          0.0   \n",
              "3                          0.0                          0.0   \n",
              "4                          0.0                          0.0   \n",
              "\n",
              "   Holiday_and_Store_Type_0_S4  Holiday_and_Store_Type_1_S1  \\\n",
              "0                          0.0                          1.0   \n",
              "1                          0.0                          0.0   \n",
              "2                          0.0                          0.0   \n",
              "3                          0.0                          0.0   \n",
              "4                          0.0                          0.0   \n",
              "\n",
              "   Holiday_and_Store_Type_1_S2  Holiday_and_Store_Type_1_S3  \\\n",
              "0                          0.0                          0.0   \n",
              "1                          0.0                          0.0   \n",
              "2                          0.0                          0.0   \n",
              "3                          0.0                          0.0   \n",
              "4                          0.0                          0.0   \n",
              "\n",
              "   Holiday_and_Store_Type_1_S4  \n",
              "0                          0.0  \n",
              "1                          0.0  \n",
              "2                          0.0  \n",
              "3                          0.0  \n",
              "4                          0.0  \n",
              "\n",
              "[5 rows x 55 columns]"
            ]
          },
          "execution_count": 33,
          "metadata": {},
          "output_type": "execute_result"
        }
      ],
      "source": [
        "# Display the transformed DataFrame\n",
        "train_df_transformed.head()"
      ]
    },
    {
      "cell_type": "code",
      "execution_count": null,
      "metadata": {
        "colab": {
          "base_uri": "https://localhost:8080/",
          "height": 206
        },
        "id": "SGnUK0EXnusY",
        "outputId": "e3e8e800-faa4-4696-8424-0f67d5bfa015"
      },
      "outputs": [
        {
          "data": {
            "application/vnd.google.colaboratory.intrinsic+json": {
              "summary": "{\n  \"name\": \"test_df\",\n  \"rows\": 22265,\n  \"fields\": [\n    {\n      \"column\": \"ID\",\n      \"properties\": {\n        \"dtype\": \"string\",\n        \"num_unique_values\": 22265,\n        \"samples\": [\n          \"T1190426\",\n          \"T1195450\",\n          \"T1195260\"\n        ],\n        \"semantic_type\": \"\",\n        \"description\": \"\"\n      }\n    },\n    {\n      \"column\": \"Store_id\",\n      \"properties\": {\n        \"dtype\": \"number\",\n        \"std\": 105,\n        \"min\": 1,\n        \"max\": 365,\n        \"num_unique_values\": 365,\n        \"samples\": [\n          111,\n          145,\n          183\n        ],\n        \"semantic_type\": \"\",\n        \"description\": \"\"\n      }\n    },\n    {\n      \"column\": \"Store_Type\",\n      \"properties\": {\n        \"dtype\": \"category\",\n        \"num_unique_values\": 4,\n        \"samples\": [\n          \"S1\",\n          \"S2\",\n          \"S4\"\n        ],\n        \"semantic_type\": \"\",\n        \"description\": \"\"\n      }\n    },\n    {\n      \"column\": \"Location_Type\",\n      \"properties\": {\n        \"dtype\": \"category\",\n        \"num_unique_values\": 5,\n        \"samples\": [\n          \"L1\",\n          \"L4\",\n          \"L3\"\n        ],\n        \"semantic_type\": \"\",\n        \"description\": \"\"\n      }\n    },\n    {\n      \"column\": \"Region_Code\",\n      \"properties\": {\n        \"dtype\": \"category\",\n        \"num_unique_values\": 4,\n        \"samples\": [\n          \"R1\",\n          \"R2\",\n          \"R3\"\n        ],\n        \"semantic_type\": \"\",\n        \"description\": \"\"\n      }\n    },\n    {\n      \"column\": \"Date\",\n      \"properties\": {\n        \"dtype\": \"object\",\n        \"num_unique_values\": 61,\n        \"samples\": [\n          \"2019-06-01\",\n          \"2019-06-06\",\n          \"2019-07-17\"\n        ],\n        \"semantic_type\": \"\",\n        \"description\": \"\"\n      }\n    },\n    {\n      \"column\": \"Holiday\",\n      \"properties\": {\n        \"dtype\": \"number\",\n        \"std\": 0,\n        \"min\": 0,\n        \"max\": 1,\n        \"num_unique_values\": 2,\n        \"samples\": [\n          1,\n          0\n        ],\n        \"semantic_type\": \"\",\n        \"description\": \"\"\n      }\n    },\n    {\n      \"column\": \"Discount\",\n      \"properties\": {\n        \"dtype\": \"category\",\n        \"num_unique_values\": 2,\n        \"samples\": [\n          \"Yes\",\n          \"No\"\n        ],\n        \"semantic_type\": \"\",\n        \"description\": \"\"\n      }\n    }\n  ]\n}",
              "type": "dataframe",
              "variable_name": "test_df"
            },
            "text/html": [
              "\n",
              "  <div id=\"df-ac17456f-9a8a-4f4f-8678-3e443ea9eb7d\" class=\"colab-df-container\">\n",
              "    <div>\n",
              "<style scoped>\n",
              "    .dataframe tbody tr th:only-of-type {\n",
              "        vertical-align: middle;\n",
              "    }\n",
              "\n",
              "    .dataframe tbody tr th {\n",
              "        vertical-align: top;\n",
              "    }\n",
              "\n",
              "    .dataframe thead th {\n",
              "        text-align: right;\n",
              "    }\n",
              "</style>\n",
              "<table border=\"1\" class=\"dataframe\">\n",
              "  <thead>\n",
              "    <tr style=\"text-align: right;\">\n",
              "      <th></th>\n",
              "      <th>ID</th>\n",
              "      <th>Store_id</th>\n",
              "      <th>Store_Type</th>\n",
              "      <th>Location_Type</th>\n",
              "      <th>Region_Code</th>\n",
              "      <th>Date</th>\n",
              "      <th>Holiday</th>\n",
              "      <th>Discount</th>\n",
              "    </tr>\n",
              "  </thead>\n",
              "  <tbody>\n",
              "    <tr>\n",
              "      <th>0</th>\n",
              "      <td>T1188341</td>\n",
              "      <td>171</td>\n",
              "      <td>S4</td>\n",
              "      <td>L2</td>\n",
              "      <td>R3</td>\n",
              "      <td>2019-06-01</td>\n",
              "      <td>0</td>\n",
              "      <td>No</td>\n",
              "    </tr>\n",
              "    <tr>\n",
              "      <th>1</th>\n",
              "      <td>T1188342</td>\n",
              "      <td>172</td>\n",
              "      <td>S1</td>\n",
              "      <td>L1</td>\n",
              "      <td>R1</td>\n",
              "      <td>2019-06-01</td>\n",
              "      <td>0</td>\n",
              "      <td>No</td>\n",
              "    </tr>\n",
              "    <tr>\n",
              "      <th>2</th>\n",
              "      <td>T1188343</td>\n",
              "      <td>173</td>\n",
              "      <td>S4</td>\n",
              "      <td>L2</td>\n",
              "      <td>R1</td>\n",
              "      <td>2019-06-01</td>\n",
              "      <td>0</td>\n",
              "      <td>No</td>\n",
              "    </tr>\n",
              "    <tr>\n",
              "      <th>3</th>\n",
              "      <td>T1188344</td>\n",
              "      <td>174</td>\n",
              "      <td>S1</td>\n",
              "      <td>L1</td>\n",
              "      <td>R4</td>\n",
              "      <td>2019-06-01</td>\n",
              "      <td>0</td>\n",
              "      <td>No</td>\n",
              "    </tr>\n",
              "    <tr>\n",
              "      <th>4</th>\n",
              "      <td>T1188345</td>\n",
              "      <td>170</td>\n",
              "      <td>S1</td>\n",
              "      <td>L1</td>\n",
              "      <td>R2</td>\n",
              "      <td>2019-06-01</td>\n",
              "      <td>0</td>\n",
              "      <td>No</td>\n",
              "    </tr>\n",
              "  </tbody>\n",
              "</table>\n",
              "</div>\n",
              "    <div class=\"colab-df-buttons\">\n",
              "\n",
              "  <div class=\"colab-df-container\">\n",
              "    <button class=\"colab-df-convert\" onclick=\"convertToInteractive('df-ac17456f-9a8a-4f4f-8678-3e443ea9eb7d')\"\n",
              "            title=\"Convert this dataframe to an interactive table.\"\n",
              "            style=\"display:none;\">\n",
              "\n",
              "  <svg xmlns=\"http://www.w3.org/2000/svg\" height=\"24px\" viewBox=\"0 -960 960 960\">\n",
              "    <path d=\"M120-120v-720h720v720H120Zm60-500h600v-160H180v160Zm220 220h160v-160H400v160Zm0 220h160v-160H400v160ZM180-400h160v-160H180v160Zm440 0h160v-160H620v160ZM180-180h160v-160H180v160Zm440 0h160v-160H620v160Z\"/>\n",
              "  </svg>\n",
              "    </button>\n",
              "\n",
              "  <style>\n",
              "    .colab-df-container {\n",
              "      display:flex;\n",
              "      gap: 12px;\n",
              "    }\n",
              "\n",
              "    .colab-df-convert {\n",
              "      background-color: #E8F0FE;\n",
              "      border: none;\n",
              "      border-radius: 50%;\n",
              "      cursor: pointer;\n",
              "      display: none;\n",
              "      fill: #1967D2;\n",
              "      height: 32px;\n",
              "      padding: 0 0 0 0;\n",
              "      width: 32px;\n",
              "    }\n",
              "\n",
              "    .colab-df-convert:hover {\n",
              "      background-color: #E2EBFA;\n",
              "      box-shadow: 0px 1px 2px rgba(60, 64, 67, 0.3), 0px 1px 3px 1px rgba(60, 64, 67, 0.15);\n",
              "      fill: #174EA6;\n",
              "    }\n",
              "\n",
              "    .colab-df-buttons div {\n",
              "      margin-bottom: 4px;\n",
              "    }\n",
              "\n",
              "    [theme=dark] .colab-df-convert {\n",
              "      background-color: #3B4455;\n",
              "      fill: #D2E3FC;\n",
              "    }\n",
              "\n",
              "    [theme=dark] .colab-df-convert:hover {\n",
              "      background-color: #434B5C;\n",
              "      box-shadow: 0px 1px 3px 1px rgba(0, 0, 0, 0.15);\n",
              "      filter: drop-shadow(0px 1px 2px rgba(0, 0, 0, 0.3));\n",
              "      fill: #FFFFFF;\n",
              "    }\n",
              "  </style>\n",
              "\n",
              "    <script>\n",
              "      const buttonEl =\n",
              "        document.querySelector('#df-ac17456f-9a8a-4f4f-8678-3e443ea9eb7d button.colab-df-convert');\n",
              "      buttonEl.style.display =\n",
              "        google.colab.kernel.accessAllowed ? 'block' : 'none';\n",
              "\n",
              "      async function convertToInteractive(key) {\n",
              "        const element = document.querySelector('#df-ac17456f-9a8a-4f4f-8678-3e443ea9eb7d');\n",
              "        const dataTable =\n",
              "          await google.colab.kernel.invokeFunction('convertToInteractive',\n",
              "                                                    [key], {});\n",
              "        if (!dataTable) return;\n",
              "\n",
              "        const docLinkHtml = 'Like what you see? Visit the ' +\n",
              "          '<a target=\"_blank\" href=https://colab.research.google.com/notebooks/data_table.ipynb>data table notebook</a>'\n",
              "          + ' to learn more about interactive tables.';\n",
              "        element.innerHTML = '';\n",
              "        dataTable['output_type'] = 'display_data';\n",
              "        await google.colab.output.renderOutput(dataTable, element);\n",
              "        const docLink = document.createElement('div');\n",
              "        docLink.innerHTML = docLinkHtml;\n",
              "        element.appendChild(docLink);\n",
              "      }\n",
              "    </script>\n",
              "  </div>\n",
              "\n",
              "\n",
              "<div id=\"df-31a91016-b4aa-464d-b412-449f4c517e56\">\n",
              "  <button class=\"colab-df-quickchart\" onclick=\"quickchart('df-31a91016-b4aa-464d-b412-449f4c517e56')\"\n",
              "            title=\"Suggest charts\"\n",
              "            style=\"display:none;\">\n",
              "\n",
              "<svg xmlns=\"http://www.w3.org/2000/svg\" height=\"24px\"viewBox=\"0 0 24 24\"\n",
              "     width=\"24px\">\n",
              "    <g>\n",
              "        <path d=\"M19 3H5c-1.1 0-2 .9-2 2v14c0 1.1.9 2 2 2h14c1.1 0 2-.9 2-2V5c0-1.1-.9-2-2-2zM9 17H7v-7h2v7zm4 0h-2V7h2v10zm4 0h-2v-4h2v4z\"/>\n",
              "    </g>\n",
              "</svg>\n",
              "  </button>\n",
              "\n",
              "<style>\n",
              "  .colab-df-quickchart {\n",
              "      --bg-color: #E8F0FE;\n",
              "      --fill-color: #1967D2;\n",
              "      --hover-bg-color: #E2EBFA;\n",
              "      --hover-fill-color: #174EA6;\n",
              "      --disabled-fill-color: #AAA;\n",
              "      --disabled-bg-color: #DDD;\n",
              "  }\n",
              "\n",
              "  [theme=dark] .colab-df-quickchart {\n",
              "      --bg-color: #3B4455;\n",
              "      --fill-color: #D2E3FC;\n",
              "      --hover-bg-color: #434B5C;\n",
              "      --hover-fill-color: #FFFFFF;\n",
              "      --disabled-bg-color: #3B4455;\n",
              "      --disabled-fill-color: #666;\n",
              "  }\n",
              "\n",
              "  .colab-df-quickchart {\n",
              "    background-color: var(--bg-color);\n",
              "    border: none;\n",
              "    border-radius: 50%;\n",
              "    cursor: pointer;\n",
              "    display: none;\n",
              "    fill: var(--fill-color);\n",
              "    height: 32px;\n",
              "    padding: 0;\n",
              "    width: 32px;\n",
              "  }\n",
              "\n",
              "  .colab-df-quickchart:hover {\n",
              "    background-color: var(--hover-bg-color);\n",
              "    box-shadow: 0 1px 2px rgba(60, 64, 67, 0.3), 0 1px 3px 1px rgba(60, 64, 67, 0.15);\n",
              "    fill: var(--button-hover-fill-color);\n",
              "  }\n",
              "\n",
              "  .colab-df-quickchart-complete:disabled,\n",
              "  .colab-df-quickchart-complete:disabled:hover {\n",
              "    background-color: var(--disabled-bg-color);\n",
              "    fill: var(--disabled-fill-color);\n",
              "    box-shadow: none;\n",
              "  }\n",
              "\n",
              "  .colab-df-spinner {\n",
              "    border: 2px solid var(--fill-color);\n",
              "    border-color: transparent;\n",
              "    border-bottom-color: var(--fill-color);\n",
              "    animation:\n",
              "      spin 1s steps(1) infinite;\n",
              "  }\n",
              "\n",
              "  @keyframes spin {\n",
              "    0% {\n",
              "      border-color: transparent;\n",
              "      border-bottom-color: var(--fill-color);\n",
              "      border-left-color: var(--fill-color);\n",
              "    }\n",
              "    20% {\n",
              "      border-color: transparent;\n",
              "      border-left-color: var(--fill-color);\n",
              "      border-top-color: var(--fill-color);\n",
              "    }\n",
              "    30% {\n",
              "      border-color: transparent;\n",
              "      border-left-color: var(--fill-color);\n",
              "      border-top-color: var(--fill-color);\n",
              "      border-right-color: var(--fill-color);\n",
              "    }\n",
              "    40% {\n",
              "      border-color: transparent;\n",
              "      border-right-color: var(--fill-color);\n",
              "      border-top-color: var(--fill-color);\n",
              "    }\n",
              "    60% {\n",
              "      border-color: transparent;\n",
              "      border-right-color: var(--fill-color);\n",
              "    }\n",
              "    80% {\n",
              "      border-color: transparent;\n",
              "      border-right-color: var(--fill-color);\n",
              "      border-bottom-color: var(--fill-color);\n",
              "    }\n",
              "    90% {\n",
              "      border-color: transparent;\n",
              "      border-bottom-color: var(--fill-color);\n",
              "    }\n",
              "  }\n",
              "</style>\n",
              "\n",
              "  <script>\n",
              "    async function quickchart(key) {\n",
              "      const quickchartButtonEl =\n",
              "        document.querySelector('#' + key + ' button');\n",
              "      quickchartButtonEl.disabled = true;  // To prevent multiple clicks.\n",
              "      quickchartButtonEl.classList.add('colab-df-spinner');\n",
              "      try {\n",
              "        const charts = await google.colab.kernel.invokeFunction(\n",
              "            'suggestCharts', [key], {});\n",
              "      } catch (error) {\n",
              "        console.error('Error during call to suggestCharts:', error);\n",
              "      }\n",
              "      quickchartButtonEl.classList.remove('colab-df-spinner');\n",
              "      quickchartButtonEl.classList.add('colab-df-quickchart-complete');\n",
              "    }\n",
              "    (() => {\n",
              "      let quickchartButtonEl =\n",
              "        document.querySelector('#df-31a91016-b4aa-464d-b412-449f4c517e56 button');\n",
              "      quickchartButtonEl.style.display =\n",
              "        google.colab.kernel.accessAllowed ? 'block' : 'none';\n",
              "    })();\n",
              "  </script>\n",
              "</div>\n",
              "\n",
              "    </div>\n",
              "  </div>\n"
            ],
            "text/plain": [
              "         ID  Store_id Store_Type Location_Type Region_Code        Date  \\\n",
              "0  T1188341       171         S4            L2          R3  2019-06-01   \n",
              "1  T1188342       172         S1            L1          R1  2019-06-01   \n",
              "2  T1188343       173         S4            L2          R1  2019-06-01   \n",
              "3  T1188344       174         S1            L1          R4  2019-06-01   \n",
              "4  T1188345       170         S1            L1          R2  2019-06-01   \n",
              "\n",
              "   Holiday Discount  \n",
              "0        0       No  \n",
              "1        0       No  \n",
              "2        0       No  \n",
              "3        0       No  \n",
              "4        0       No  "
            ]
          },
          "execution_count": 34,
          "metadata": {},
          "output_type": "execute_result"
        }
      ],
      "source": [
        "test_df.head()"
      ]
    },
    {
      "cell_type": "code",
      "execution_count": null,
      "metadata": {
        "colab": {
          "base_uri": "https://localhost:8080/"
        },
        "id": "xF825kP6iLMe",
        "outputId": "681ce250-c4ea-4ae4-bd7e-871734a89583"
      },
      "outputs": [
        {
          "name": "stdout",
          "output_type": "stream",
          "text": [
            "Transformed training set shape: (150672, 13)\n",
            "Transformed validation set shape: (37668, 13)\n",
            "Transformed test set shape: (22265, 13)\n"
          ]
        }
      ],
      "source": [
        "import pandas as pd\n",
        "from sklearn.model_selection import train_test_split\n",
        "from sklearn.preprocessing import StandardScaler, OneHotEncoder\n",
        "from sklearn.compose import ColumnTransformer\n",
        "\n",
        "# Load the training and testing data\n",
        "train_df = pd.read_csv('/content/TRAIN.csv')\n",
        "test_df = pd.read_csv('/content/TEST_FINAL.csv')\n",
        "\n",
        "# Convert 'Date' column to datetime if necessary\n",
        "train_df['Date'] = pd.to_datetime(train_df['Date'])\n",
        "test_df['Date'] = pd.to_datetime(test_df['Date'])\n",
        "\n",
        "# Define numerical and categorical features\n",
        "#numerical_features = ['#Order', 'Sales_7d', 'Sales_14d', 'Sales_30d',\n",
        "                     # 'Orders_7d', 'Orders_14d', 'Orders_30d', 'Sales_Lag_1', 'Sales_Lag_7',\n",
        "                    # 'Orders_Lag_1', 'Orders_Lag_7', 'Cumulative_Sales', 'Cumulative_Orders',\n",
        "                     # 'Order_to_Sales_Ratio', 'Discount_to_Sales_30d',\n",
        "                      #'Store_Sales_7d', 'Store_Orders_7d', 'Avg_Sales_Store_Type',\n",
        "                      #'Avg_Sales_Location_Type', 'Avg_Sales_Region_Code',\n",
        "                      #'Day', 'Month', 'WeekOfYear', 'DayOfWeek']\n",
        "\n",
        "numerical_features = ['Store_id','Holiday']\n",
        "\n",
        "\n",
        "categorical_features = ['Store_Type', 'Location_Type', 'Region_Code',\n",
        "                        'Discount']\n",
        "\n",
        "# Separate the target variable in training data\n",
        "X = train_df.drop(columns=['Sales'])\n",
        "y = train_df['Sales']\n",
        "\n",
        "# Split `train_df` into training and validation sets (e.g., 80% training, 20% validation)\n",
        "X_train, X_val, y_train, y_val = train_test_split(X, y, test_size=0.2, random_state=42)\n",
        "\n",
        "# Build the transformer for scaling and encoding\n",
        "numerical_transformer = StandardScaler()\n",
        "categorical_transformer = OneHotEncoder(drop='first', sparse_output=False,handle_unknown='ignore')\n",
        "\n",
        "preprocessor = ColumnTransformer(\n",
        "    transformers=[\n",
        "        ('num', numerical_transformer, numerical_features),\n",
        "        ('cat', categorical_transformer, categorical_features)\n",
        "    ])\n",
        "\n",
        "#categorical_transformer = OneHotEncoder(drop='first', sparse_output=False, handle_unknown='ignore')\n",
        "\n",
        "\n",
        "# Fit the transformer on the training data and apply to the validation and test sets\n",
        "X_train_transformed = preprocessor.fit_transform(X_train)\n",
        "X_val_transformed = preprocessor.transform(X_val)\n",
        "X_test_transformed = preprocessor.transform(test_df)  # Apply transformation to `test_df` without fitting\n",
        "\n",
        "# Convert transformed arrays back into DataFrames\n",
        "cat_columns = preprocessor.named_transformers_['cat'].get_feature_names_out(categorical_features)\n",
        "transformed_columns = numerical_features + list(cat_columns)\n",
        "X_train_transformed = pd.DataFrame(X_train_transformed, columns=transformed_columns)\n",
        "X_val_transformed = pd.DataFrame(X_val_transformed, columns=transformed_columns)\n",
        "X_test_transformed = pd.DataFrame(X_test_transformed, columns=transformed_columns)\n",
        "\n",
        "# Display shapes of the processed training, validation, and test sets\n",
        "print(\"Transformed training set shape:\", X_train_transformed.shape)\n",
        "print(\"Transformed validation set shape:\", X_val_transformed.shape)\n",
        "print(\"Transformed test set shape:\", X_test_transformed.shape)\n"
      ]
    },
    {
      "cell_type": "code",
      "execution_count": null,
      "metadata": {
        "id": "LrnixO7sOKUW"
      },
      "outputs": [],
      "source": []
    },
    {
      "cell_type": "markdown",
      "metadata": {
        "id": "8dbnl2AGo1r1"
      },
      "source": [
        "Model Selection"
      ]
    },
    {
      "cell_type": "code",
      "execution_count": null,
      "metadata": {
        "colab": {
          "base_uri": "https://localhost:8080/"
        },
        "id": "UzDjTETso1S7",
        "outputId": "e187eef5-f936-45dc-a517-a65a3a716486"
      },
      "outputs": [
        {
          "name": "stdout",
          "output_type": "stream",
          "text": [
            "Baseline Model Performance on Validation Set:\n",
            "Mean Absolute Error (MAE): 8677.966717174424\n",
            "Mean Squared Error (MSE): 153217672.26270828\n",
            "Root Mean Squared Error (RMSE): 12378.11262926252\n",
            "R-squared (R2): 0.546793287511736\n"
          ]
        }
      ],
      "source": [
        "from sklearn.linear_model import LinearRegression\n",
        "from sklearn.metrics import mean_squared_error, mean_absolute_error, r2_score\n",
        "import numpy as np\n",
        "\n",
        "# Initialize the Linear Regression model\n",
        "baseline_model = LinearRegression()\n",
        "\n",
        "# Fit the model on the training data\n",
        "baseline_model.fit(X_train_transformed, y_train)\n",
        "\n",
        "# Make predictions on the validation set\n",
        "y_val_pred = baseline_model.predict(X_val_transformed)\n",
        "\n",
        "# Calculate evaluation metrics\n",
        "mse = mean_squared_error(y_val, y_val_pred)\n",
        "mae = mean_absolute_error(y_val, y_val_pred)\n",
        "rmse = np.sqrt(mse)\n",
        "r2 = r2_score(y_val, y_val_pred)\n",
        "\n",
        "# Print evaluation metrics\n",
        "print(\"Baseline Model Performance on Validation Set:\")\n",
        "print(\"Mean Absolute Error (MAE):\", mae)\n",
        "print(\"Mean Squared Error (MSE):\", mse)\n",
        "print(\"Root Mean Squared Error (RMSE):\", rmse)\n",
        "print(\"R-squared (R2):\", r2)\n"
      ]
    },
    {
      "cell_type": "code",
      "execution_count": null,
      "metadata": {
        "colab": {
          "base_uri": "https://localhost:8080/",
          "height": 472
        },
        "id": "umihedQTyKsl",
        "outputId": "04578abb-745d-4d9f-bfce-eceaf04bc119"
      },
      "outputs": [
        {
          "data": {
            "image/png": "[encoded data removed]",
            "text/plain": [
              "<Figure size 640x480 with 1 Axes>"
            ]
          },
          "metadata": {},
          "output_type": "display_data"
        }
      ],
      "source": [
        "plt.scatter(y_val, y_val_pred)\n",
        "plt.xlabel(\"True Values\")\n",
        "plt.ylabel(\"Predictions\")\n",
        "plt.title(\"True vs Predicted Values\")\n",
        "plt.show()\n"
      ]
    },
    {
      "cell_type": "code",
      "execution_count": null,
      "metadata": {
        "id": "OrybdSYIHHl5"
      },
      "outputs": [],
      "source": [
        "#import pandas as pd"
      ]
    },
    {
      "cell_type": "code",
      "execution_count": null,
      "metadata": {
        "id": "nnLd541gG-Oh"
      },
      "outputs": [],
      "source": [
        "#train_df=pd.read_csv(\"/content/TRAIN.csv\")"
      ]
    },
    {
      "cell_type": "code",
      "execution_count": null,
      "metadata": {
        "colab": {
          "base_uri": "https://localhost:8080/"
        },
        "id": "8u5oxW72Hn9b",
        "outputId": "c7638a22-f84d-4fc0-a08b-bd061f115ef4"
      },
      "outputs": [
        {
          "name": "stderr",
          "output_type": "stream",
          "text": [
            "/usr/local/lib/python3.10/dist-packages/statsmodels/tsa/base/tsa_model.py:473: ValueWarning: A date index has been provided, but it has no associated frequency information and so will be ignored when e.g. forecasting.\n",
            "  self._init_dates(dates, freq)\n",
            "/usr/local/lib/python3.10/dist-packages/statsmodels/tsa/base/tsa_model.py:473: ValueWarning: A date index has been provided, but it has no associated frequency information and so will be ignored when e.g. forecasting.\n",
            "  self._init_dates(dates, freq)\n",
            "/usr/local/lib/python3.10/dist-packages/statsmodels/tsa/base/tsa_model.py:473: ValueWarning: A date index has been provided, but it has no associated frequency information and so will be ignored when e.g. forecasting.\n",
            "  self._init_dates(dates, freq)\n",
            "/usr/local/lib/python3.10/dist-packages/statsmodels/tsa/base/tsa_model.py:837: ValueWarning: No supported index is available. Prediction results will be given with an integer index beginning at `start`.\n",
            "  return get_prediction_index(\n"
          ]
        },
        {
          "name": "stdout",
          "output_type": "stream",
          "text": [
            "ARIMA Model RMSE: 18862.86916532888\n"
          ]
        }
      ],
      "source": [
        "import pandas as pd\n",
        "from statsmodels.tsa.arima.model import ARIMA\n",
        "from sklearn.metrics import mean_squared_error\n",
        "import numpy as np\n",
        "\n",
        "# Assume sales data is a time series indexed by date\n",
        "train_df['Date'] = pd.to_datetime(train_df['Date'])\n",
        "train_df.set_index('Date', inplace=True)\n",
        "\n",
        "# Fit an ARIMA model (example parameters)\n",
        "p, d, q = 1, 1, 1  # Adjust these based on your ACF/PACF analysis or grid search\n",
        "arima_model = ARIMA(train_df['Sales'], order=(p, d, q))\n",
        "arima_model_fit = arima_model.fit()\n",
        "\n",
        "# Forecasting on validation set\n",
        "forecast = arima_model_fit.forecast(steps=len(X_val))  # Adjust `steps` as needed\n",
        "\n",
        "# Evaluate\n",
        "mse = mean_squared_error(y_val, forecast)\n",
        "rmse = np.sqrt(mse)\n",
        "print(f\"ARIMA Model RMSE: {rmse}\")\n"
      ]
    },
    {
      "cell_type": "code",
      "execution_count": null,
      "metadata": {
        "colab": {
          "base_uri": "https://localhost:8080/"
        },
        "id": "GCDmFGENHlR9",
        "outputId": "6586567e-331a-493c-a4b3-6c94ff03b6d5"
      },
      "outputs": [
        {
          "name": "stderr",
          "output_type": "stream",
          "text": [
            "/usr/local/lib/python3.10/dist-packages/statsmodels/tsa/base/tsa_model.py:473: ValueWarning: A date index has been provided, but it has no associated frequency information and so will be ignored when e.g. forecasting.\n",
            "  self._init_dates(dates, freq)\n",
            "/usr/local/lib/python3.10/dist-packages/statsmodels/tsa/base/tsa_model.py:473: ValueWarning: A date index has been provided, but it has no associated frequency information and so will be ignored when e.g. forecasting.\n",
            "  self._init_dates(dates, freq)\n",
            "/usr/local/lib/python3.10/dist-packages/statsmodels/tsa/base/tsa_model.py:837: ValueWarning: No supported index is available. Prediction results will be given with an integer index beginning at `start`.\n",
            "  return get_prediction_index(\n"
          ]
        },
        {
          "name": "stdout",
          "output_type": "stream",
          "text": [
            "SARIMA Model RMSE: 19245.26259029263\n"
          ]
        }
      ],
      "source": [
        "from statsmodels.tsa.statespace.sarimax import SARIMAX\n",
        "\n",
        "# Set the seasonal order, example with a weekly seasonality (s=7 for daily data)\n",
        "P, D, Q, s = 1, 1, 1, 7  # Adjust based on seasonality\n",
        "\n",
        "# Fit SARIMA model\n",
        "sarima_model = SARIMAX(train_df['Sales'], order=(p, d, q), seasonal_order=(P, D, Q, s))\n",
        "sarima_model_fit = sarima_model.fit()\n",
        "\n",
        "# Forecast on validation set\n",
        "forecast_sarima = sarima_model_fit.get_forecast(steps=len(X_val)).predicted_mean\n",
        "\n",
        "# Evaluate\n",
        "mse_sarima = mean_squared_error(y_val, forecast_sarima)\n",
        "rmse_sarima = np.sqrt(mse_sarima)\n",
        "print(f\"SARIMA Model RMSE: {rmse_sarima}\")\n"
      ]
    },
    {
      "cell_type": "code",
      "execution_count": null,
      "metadata": {
        "colab": {
          "base_uri": "https://localhost:8080/"
        },
        "id": "Bx_jkqqUeNBo",
        "outputId": "cbd441bb-3dd2-469d-95ab-ad64e8201df7"
      },
      "outputs": [
        {
          "name": "stdout",
          "output_type": "stream",
          "text": [
            "Requirement already satisfied: prophet in /usr/local/lib/python3.10/dist-packages (1.1.6)\n",
            "Requirement already satisfied: cmdstanpy>=1.0.4 in /usr/local/lib/python3.10/dist-packages (from prophet) (1.2.4)\n",
            "Requirement already satisfied: numpy>=1.15.4 in /usr/local/lib/python3.10/dist-packages (from prophet) (1.26.4)\n",
            "Requirement already satisfied: matplotlib>=2.0.0 in /usr/local/lib/python3.10/dist-packages (from prophet) (3.8.0)\n",
            "Requirement already satisfied: pandas>=1.0.4 in /usr/local/lib/python3.10/dist-packages (from prophet) (2.2.2)\n",
            "Requirement already satisfied: holidays<1,>=0.25 in /usr/local/lib/python3.10/dist-packages (from prophet) (0.59)\n",
            "Requirement already satisfied: tqdm>=4.36.1 in /usr/local/lib/python3.10/dist-packages (from prophet) (4.66.6)\n",
            "Requirement already satisfied: importlib-resources in /usr/local/lib/python3.10/dist-packages (from prophet) (6.4.5)\n",
            "Requirement already satisfied: stanio<2.0.0,>=0.4.0 in /usr/local/lib/python3.10/dist-packages (from cmdstanpy>=1.0.4->prophet) (0.5.1)\n",
            "Requirement already satisfied: python-dateutil in /usr/local/lib/python3.10/dist-packages (from holidays<1,>=0.25->prophet) (2.8.2)\n",
            "Requirement already satisfied: contourpy>=1.0.1 in /usr/local/lib/python3.10/dist-packages (from matplotlib>=2.0.0->prophet) (1.3.0)\n",
            "Requirement already satisfied: cycler>=0.10 in /usr/local/lib/python3.10/dist-packages (from matplotlib>=2.0.0->prophet) (0.12.1)\n",
            "Requirement already satisfied: fonttools>=4.22.0 in /usr/local/lib/python3.10/dist-packages (from matplotlib>=2.0.0->prophet) (4.54.1)\n",
            "Requirement already satisfied: kiwisolver>=1.0.1 in /usr/local/lib/python3.10/dist-packages (from matplotlib>=2.0.0->prophet) (1.4.7)\n",
            "Requirement already satisfied: packaging>=20.0 in /usr/local/lib/python3.10/dist-packages (from matplotlib>=2.0.0->prophet) (24.1)\n",
            "Requirement already satisfied: pillow>=6.2.0 in /usr/local/lib/python3.10/dist-packages (from matplotlib>=2.0.0->prophet) (10.4.0)\n",
            "Requirement already satisfied: pyparsing>=2.3.1 in /usr/local/lib/python3.10/dist-packages (from matplotlib>=2.0.0->prophet) (3.2.0)\n",
            "Requirement already satisfied: pytz>=2020.1 in /usr/local/lib/python3.10/dist-packages (from pandas>=1.0.4->prophet) (2024.2)\n",
            "Requirement already satisfied: tzdata>=2022.7 in /usr/local/lib/python3.10/dist-packages (from pandas>=1.0.4->prophet) (2024.2)\n",
            "Requirement already satisfied: six>=1.5 in /usr/local/lib/python3.10/dist-packages (from python-dateutil->holidays<1,>=0.25->prophet) (1.16.0)\n"
          ]
        }
      ],
      "source": [
        "!pip install prophet\n"
      ]
    },
    {
      "cell_type": "code",
      "execution_count": null,
      "metadata": {
        "colab": {
          "base_uri": "https://localhost:8080/"
        },
        "id": "S8-H62YpeMCJ",
        "outputId": "90d039b3-a67d-49fd-f28e-9d2e573e760d"
      },
      "outputs": [
        {
          "name": "stderr",
          "output_type": "stream",
          "text": [
            "DEBUG:cmdstanpy:input tempfile: /tmp/tmp6npxb8g3/ua1l2jfv.json\n",
            "DEBUG:cmdstanpy:input tempfile: /tmp/tmp6npxb8g3/7e2sp4cs.json\n",
            "DEBUG:cmdstanpy:idx 0\n",
            "DEBUG:cmdstanpy:running CmdStan, num_threads: None\n",
            "DEBUG:cmdstanpy:CmdStan args: ['/usr/local/lib/python3.10/dist-packages/prophet/stan_model/prophet_model.bin', 'random', 'seed=37183', 'data', 'file=/tmp/tmp6npxb8g3/ua1l2jfv.json', 'init=/tmp/tmp6npxb8g3/7e2sp4cs.json', 'output', 'file=/tmp/tmp6npxb8g3/prophet_model76wh0qv_/prophet_model-20241109054324.csv', 'method=optimize', 'algorithm=lbfgs', 'iter=10000']\n",
            "05:43:24 - cmdstanpy - INFO - Chain [1] start processing\n",
            "INFO:cmdstanpy:Chain [1] start processing\n",
            "05:45:34 - cmdstanpy - INFO - Chain [1] done processing\n",
            "INFO:cmdstanpy:Chain [1] done processing\n"
          ]
        },
        {
          "name": "stdout",
          "output_type": "stream",
          "text": [
            "Prophet Model RMSE: 9344059.108141297\n"
          ]
        }
      ],
      "source": [
        "from prophet import Prophet\n",
        "\n",
        "# Prepare data for Prophet\n",
        "train_df_prophet = train_df.reset_index()[['Date', 'Sales']]\n",
        "train_df_prophet.columns = ['ds', 'y']  # Prophet requires columns to be named 'ds' and 'y'\n",
        "\n",
        "# Initialize and fit the Prophet model\n",
        "prophet_model = Prophet(yearly_seasonality=True, weekly_seasonality=True, daily_seasonality=False)\n",
        "prophet_model.fit(train_df_prophet)\n",
        "\n",
        "# Create future dates for validation period\n",
        "future_dates = prophet_model.make_future_dataframe(periods=len(X_val))\n",
        "\n",
        "# Forecast\n",
        "forecast_prophet = prophet_model.predict(future_dates)\n",
        "\n",
        "# Extract forecasted values for validation period\n",
        "forecast_y = forecast_prophet['yhat'][-len(X_val):].values\n",
        "\n",
        "# Evaluate\n",
        "mse_prophet = mean_squared_error(y_val, forecast_y)\n",
        "rmse_prophet = np.sqrt(mse_prophet)\n",
        "print(f\"Prophet Model RMSE: {rmse_prophet}\")\n"
      ]
    },
    {
      "cell_type": "markdown",
      "metadata": {
        "id": "nqbl_QhTt41v"
      },
      "source": [
        "Among these three ARIMA, SARIMA, or Prophet SARIMA has given the best result"
      ]
    },
    {
      "cell_type": "markdown",
      "metadata": {
        "id": "EtBJ4wRouIPh"
      },
      "source": [
        "●\tTree-Based Models: Random forests and gradient boosting machines (e.g., XGBoost, LightGBM) that can handle nonlinear relationships and interactions between features."
      ]
    },
    {
      "cell_type": "markdown",
      "metadata": {
        "id": "2AksEWfhvSQs"
      },
      "source": [
        "Tree-based models, like Random Forests and Gradient Boosting Machines (e.g., XGBoost and LightGBM), are excellent choices for handling complex, nonlinear relationships in your data. They also automatically capture feature interactions, which can significantly enhance predictive power, especially when traditional time series models struggle with non-stationary or highly nonlinear data."
      ]
    },
    {
      "cell_type": "code",
      "execution_count": null,
      "metadata": {
        "colab": {
          "base_uri": "https://localhost:8080/"
        },
        "id": "KrEP3M91qnPu",
        "outputId": "efc17b8d-f073-4109-cf1f-c0871ea5092c"
      },
      "outputs": [
        {
          "name": "stdout",
          "output_type": "stream",
          "text": [
            "Random Forest Model Performance on Validation Set:\n",
            "Mean Absolute Error (MAE): 7899.998292041057\n",
            "Mean Squared Error (MSE): 126093802.30401266\n",
            "Root Mean Squared Error (RMSE): 11229.149669677248\n",
            "R-squared (R2): 0.6270237188477663\n"
          ]
        }
      ],
      "source": [
        "from sklearn.ensemble import RandomForestRegressor\n",
        "from sklearn.metrics import mean_squared_error, mean_absolute_error, r2_score\n",
        "import numpy as np\n",
        "\n",
        "# Initialize the Random Forest Regressor\n",
        "rf_model = RandomForestRegressor(n_estimators=100, random_state=42, max_depth=10)\n",
        "\n",
        "# Train the model on the training data\n",
        "rf_model.fit(X_train_transformed, y_train)\n",
        "\n",
        "# Make predictions on the validation set\n",
        "y_val_pred_rf = rf_model.predict(X_val_transformed)\n",
        "\n",
        "# Evaluate the model\n",
        "mse_rf = mean_squared_error(y_val, y_val_pred_rf)\n",
        "rmse_rf = np.sqrt(mse_rf)\n",
        "mae_rf = mean_absolute_error(y_val, y_val_pred_rf)\n",
        "r2_rf = r2_score(y_val, y_val_pred_rf)\n",
        "\n",
        "print(\"Random Forest Model Performance on Validation Set:\")\n",
        "print(\"Mean Absolute Error (MAE):\", mae_rf)\n",
        "print(\"Mean Squared Error (MSE):\", mse_rf)\n",
        "print(\"Root Mean Squared Error (RMSE):\", rmse_rf)\n",
        "print(\"R-squared (R2):\", r2_rf)\n"
      ]
    },
    {
      "cell_type": "code",
      "execution_count": null,
      "metadata": {
        "colab": {
          "base_uri": "https://localhost:8080/"
        },
        "id": "wYqOEdoQuLVk",
        "outputId": "885311d2-5ef1-4e25-9289-68195bbd10a1"
      },
      "outputs": [
        {
          "name": "stdout",
          "output_type": "stream",
          "text": [
            "XGBoost Model Performance on Validation Set:\n",
            "Mean Absolute Error (MAE): 7909.374071625783\n",
            "Mean Squared Error (MSE): 127332081.00898792\n",
            "Root Mean Squared Error (RMSE): 11284.15176293672\n",
            "R-squared (R2): 0.6233609806483253\n"
          ]
        }
      ],
      "source": [
        "from xgboost import XGBRegressor\n",
        "\n",
        "# Initialize the XGBoost Regressor\n",
        "xgb_model = XGBRegressor(n_estimators=100, learning_rate=0.1, max_depth=5, random_state=42)\n",
        "\n",
        "# Train the model on the training data\n",
        "xgb_model.fit(X_train_transformed, y_train)\n",
        "\n",
        "# Make predictions on the validation set\n",
        "y_val_pred_xgb = xgb_model.predict(X_val_transformed)\n",
        "\n",
        "# Evaluate the model\n",
        "mse_xgb = mean_squared_error(y_val, y_val_pred_xgb)\n",
        "rmse_xgb = np.sqrt(mse_xgb)\n",
        "mae_xgb = mean_absolute_error(y_val, y_val_pred_xgb)\n",
        "r2_xgb = r2_score(y_val, y_val_pred_xgb)\n",
        "\n",
        "print(\"XGBoost Model Performance on Validation Set:\")\n",
        "print(\"Mean Absolute Error (MAE):\", mae_xgb)\n",
        "print(\"Mean Squared Error (MSE):\", mse_xgb)\n",
        "print(\"Root Mean Squared Error (RMSE):\", rmse_xgb)\n",
        "print(\"R-squared (R2):\", r2_xgb)\n"
      ]
    },
    {
      "cell_type": "code",
      "execution_count": null,
      "metadata": {
        "colab": {
          "base_uri": "https://localhost:8080/"
        },
        "id": "iLpvu0jh0R8g",
        "outputId": "55a3707d-f8cd-4187-ba9e-ade3683602a9"
      },
      "outputs": [
        {
          "name": "stdout",
          "output_type": "stream",
          "text": [
            "[LightGBM] [Info] Auto-choosing row-wise multi-threading, the overhead of testing was 0.011496 seconds.\n",
            "You can set `force_row_wise=true` to remove the overhead.\n",
            "And if memory is not enough, you can set `force_col_wise=true`.\n",
            "[LightGBM] [Info] Total Bins 276\n",
            "[LightGBM] [Info] Number of data points in the train set: 150672, number of used features: 13\n",
            "[LightGBM] [Info] Start training from score 42774.516131\n",
            "[LightGBM] [Warning] No further splits with positive gain, best gain: -inf\n",
            "[LightGBM] [Warning] No further splits with positive gain, best gain: -inf\n",
            "[LightGBM] [Warning] No further splits with positive gain, best gain: -inf\n",
            "[LightGBM] [Warning] No further splits with positive gain, best gain: -inf\n",
            "[LightGBM] [Warning] No further splits with positive gain, best gain: -inf\n",
            "[LightGBM] [Warning] No further splits with positive gain, best gain: -inf\n",
            "[LightGBM] [Warning] No further splits with positive gain, best gain: -inf\n",
            "[LightGBM] [Warning] No further splits with positive gain, best gain: -inf\n",
            "[LightGBM] [Warning] No further splits with positive gain, best gain: -inf\n",
            "[LightGBM] [Warning] No further splits with positive gain, best gain: -inf\n",
            "[LightGBM] [Warning] No further splits with positive gain, best gain: -inf\n",
            "[LightGBM] [Warning] No further splits with positive gain, best gain: -inf\n",
            "[LightGBM] [Warning] No further splits with positive gain, best gain: -inf\n",
            "[LightGBM] [Warning] No further splits with positive gain, best gain: -inf\n",
            "LightGBM Model Performance on Validation Set:\n",
            "Mean Absolute Error (MAE): 7874.159502373451\n",
            "Mean Squared Error (MSE): 126079193.13501821\n",
            "Root Mean Squared Error (RMSE): 11228.499148818519\n",
            "R-squared (R2): 0.627066931705359\n"
          ]
        }
      ],
      "source": [
        "from lightgbm import LGBMRegressor\n",
        "\n",
        "# Initialize the LightGBM Regressor\n",
        "lgbm_model = LGBMRegressor(n_estimators=100, learning_rate=0.1, max_depth=5, random_state=42)\n",
        "\n",
        "# Train the model on the training data\n",
        "lgbm_model.fit(X_train_transformed, y_train)\n",
        "\n",
        "# Make predictions on the validation set\n",
        "y_val_pred_lgbm = lgbm_model.predict(X_val_transformed)\n",
        "\n",
        "# Evaluate the model\n",
        "mse_lgbm = mean_squared_error(y_val, y_val_pred_lgbm)\n",
        "rmse_lgbm = np.sqrt(mse_lgbm)\n",
        "mae_lgbm = mean_absolute_error(y_val, y_val_pred_lgbm)\n",
        "r2_lgbm = r2_score(y_val, y_val_pred_lgbm)\n",
        "\n",
        "print(\"LightGBM Model Performance on Validation Set:\")\n",
        "print(\"Mean Absolute Error (MAE):\", mae_lgbm)\n",
        "print(\"Mean Squared Error (MSE):\", mse_lgbm)\n",
        "print(\"Root Mean Squared Error (RMSE):\", rmse_lgbm)\n",
        "print(\"R-squared (R2):\", r2_lgbm)\n"
      ]
    },
    {
      "cell_type": "markdown",
      "metadata": {
        "id": "G6hJeKjM1F7W"
      },
      "source": [
        "●\tDeep Learning Models: Neural networks, especially LSTM (Long Short-Term Memory) models, which are well-suited for sequences like time series data."
      ]
    },
    {
      "cell_type": "markdown",
      "metadata": {
        "id": "2u62MGE51Oqy"
      },
      "source": [
        "LSTM (Long Short-Term Memory) networks are ideal for time series forecasting as they can capture complex temporal dependencies."
      ]
    },
    {
      "cell_type": "code",
      "execution_count": null,
      "metadata": {
        "colab": {
          "base_uri": "https://localhost:8080/"
        },
        "id": "ERzNKX1b0Y68",
        "outputId": "d098e514-e0cc-42fe-f4ab-675060312c8e"
      },
      "outputs": [
        {
          "name": "stdout",
          "output_type": "stream",
          "text": [
            "Requirement already satisfied: tensorflow in /usr/local/lib/python3.10/dist-packages (2.17.0)\n",
            "Requirement already satisfied: absl-py>=1.0.0 in /usr/local/lib/python3.10/dist-packages (from tensorflow) (1.4.0)\n",
            "Requirement already satisfied: astunparse>=1.6.0 in /usr/local/lib/python3.10/dist-packages (from tensorflow) (1.6.3)\n",
            "Requirement already satisfied: flatbuffers>=24.3.25 in /usr/local/lib/python3.10/dist-packages (from tensorflow) (24.3.25)\n",
            "Requirement already satisfied: gast!=0.5.0,!=0.5.1,!=0.5.2,>=0.2.1 in /usr/local/lib/python3.10/dist-packages (from tensorflow) (0.6.0)\n",
            "Requirement already satisfied: google-pasta>=0.1.1 in /usr/local/lib/python3.10/dist-packages (from tensorflow) (0.2.0)\n",
            "Requirement already satisfied: h5py>=3.10.0 in /usr/local/lib/python3.10/dist-packages (from tensorflow) (3.12.1)\n",
            "Requirement already satisfied: libclang>=13.0.0 in /usr/local/lib/python3.10/dist-packages (from tensorflow) (18.1.1)\n",
            "Requirement already satisfied: ml-dtypes<0.5.0,>=0.3.1 in /usr/local/lib/python3.10/dist-packages (from tensorflow) (0.4.1)\n",
            "Requirement already satisfied: opt-einsum>=2.3.2 in /usr/local/lib/python3.10/dist-packages (from tensorflow) (3.4.0)\n",
            "Requirement already satisfied: packaging in /usr/local/lib/python3.10/dist-packages (from tensorflow) (24.1)\n",
            "Requirement already satisfied: protobuf!=4.21.0,!=4.21.1,!=4.21.2,!=4.21.3,!=4.21.4,!=4.21.5,<5.0.0dev,>=3.20.3 in /usr/local/lib/python3.10/dist-packages (from tensorflow) (3.20.3)\n",
            "Requirement already satisfied: requests<3,>=2.21.0 in /usr/local/lib/python3.10/dist-packages (from tensorflow) (2.32.3)\n",
            "Requirement already satisfied: setuptools in /usr/local/lib/python3.10/dist-packages (from tensorflow) (75.1.0)\n",
            "Requirement already satisfied: six>=1.12.0 in /usr/local/lib/python3.10/dist-packages (from tensorflow) (1.16.0)\n",
            "Requirement already satisfied: termcolor>=1.1.0 in /usr/local/lib/python3.10/dist-packages (from tensorflow) (2.5.0)\n",
            "Requirement already satisfied: typing-extensions>=3.6.6 in /usr/local/lib/python3.10/dist-packages (from tensorflow) (4.12.2)\n",
            "Requirement already satisfied: wrapt>=1.11.0 in /usr/local/lib/python3.10/dist-packages (from tensorflow) (1.16.0)\n",
            "Requirement already satisfied: grpcio<2.0,>=1.24.3 in /usr/local/lib/python3.10/dist-packages (from tensorflow) (1.64.1)\n",
            "Requirement already satisfied: tensorboard<2.18,>=2.17 in /usr/local/lib/python3.10/dist-packages (from tensorflow) (2.17.0)\n",
            "Requirement already satisfied: keras>=3.2.0 in /usr/local/lib/python3.10/dist-packages (from tensorflow) (3.4.1)\n",
            "Requirement already satisfied: tensorflow-io-gcs-filesystem>=0.23.1 in /usr/local/lib/python3.10/dist-packages (from tensorflow) (0.37.1)\n",
            "Requirement already satisfied: numpy<2.0.0,>=1.23.5 in /usr/local/lib/python3.10/dist-packages (from tensorflow) (1.26.4)\n",
            "Requirement already satisfied: wheel<1.0,>=0.23.0 in /usr/local/lib/python3.10/dist-packages (from astunparse>=1.6.0->tensorflow) (0.44.0)\n",
            "Requirement already satisfied: rich in /usr/local/lib/python3.10/dist-packages (from keras>=3.2.0->tensorflow) (13.9.3)\n",
            "Requirement already satisfied: namex in /usr/local/lib/python3.10/dist-packages (from keras>=3.2.0->tensorflow) (0.0.8)\n",
            "Requirement already satisfied: optree in /usr/local/lib/python3.10/dist-packages (from keras>=3.2.0->tensorflow) (0.13.0)\n",
            "Requirement already satisfied: charset-normalizer<4,>=2 in /usr/local/lib/python3.10/dist-packages (from requests<3,>=2.21.0->tensorflow) (3.4.0)\n",
            "Requirement already satisfied: idna<4,>=2.5 in /usr/local/lib/python3.10/dist-packages (from requests<3,>=2.21.0->tensorflow) (3.10)\n",
            "Requirement already satisfied: urllib3<3,>=1.21.1 in /usr/local/lib/python3.10/dist-packages (from requests<3,>=2.21.0->tensorflow) (2.2.3)\n",
            "Requirement already satisfied: certifi>=2017.4.17 in /usr/local/lib/python3.10/dist-packages (from requests<3,>=2.21.0->tensorflow) (2024.8.30)\n",
            "Requirement already satisfied: markdown>=2.6.8 in /usr/local/lib/python3.10/dist-packages (from tensorboard<2.18,>=2.17->tensorflow) (3.7)\n",
            "Requirement already satisfied: tensorboard-data-server<0.8.0,>=0.7.0 in /usr/local/lib/python3.10/dist-packages (from tensorboard<2.18,>=2.17->tensorflow) (0.7.2)\n",
            "Requirement already satisfied: werkzeug>=1.0.1 in /usr/local/lib/python3.10/dist-packages (from tensorboard<2.18,>=2.17->tensorflow) (3.0.6)\n",
            "Requirement already satisfied: MarkupSafe>=2.1.1 in /usr/local/lib/python3.10/dist-packages (from werkzeug>=1.0.1->tensorboard<2.18,>=2.17->tensorflow) (3.0.2)\n",
            "Requirement already satisfied: markdown-it-py>=2.2.0 in /usr/local/lib/python3.10/dist-packages (from rich->keras>=3.2.0->tensorflow) (3.0.0)\n",
            "Requirement already satisfied: pygments<3.0.0,>=2.13.0 in /usr/local/lib/python3.10/dist-packages (from rich->keras>=3.2.0->tensorflow) (2.18.0)\n",
            "Requirement already satisfied: mdurl~=0.1 in /usr/local/lib/python3.10/dist-packages (from markdown-it-py>=2.2.0->rich->keras>=3.2.0->tensorflow) (0.1.2)\n"
          ]
        }
      ],
      "source": [
        "!pip install tensorflow"
      ]
    },
    {
      "cell_type": "code",
      "execution_count": null,
      "metadata": {
        "id": "oK4uARM23FkR"
      },
      "outputs": [],
      "source": [
        "train_df=pd.read_csv(\"/content/TRAIN.csv\")"
      ]
    },
    {
      "cell_type": "code",
      "execution_count": null,
      "metadata": {
        "id": "5A3sWsOkNnxk"
      },
      "outputs": [],
      "source": [
        "tesr_df=pd.read_csv(\"/content/TEST_FINAL.csv\")"
      ]
    },
    {
      "cell_type": "code",
      "execution_count": null,
      "metadata": {
        "id": "r3wHyCpU1Som"
      },
      "outputs": [],
      "source": [
        "import numpy as np\n",
        "from sklearn.preprocessing import StandardScaler\n",
        "import tensorflow as tf\n",
        "from tensorflow.keras.models import Sequential\n",
        "from tensorflow.keras.layers import LSTM, Dense, Dropout\n",
        "from sklearn.metrics import mean_squared_error\n",
        "\n",
        "# Ensure Date is in datetime format and set it as index for time series\n",
        "train_df['Date'] = pd.to_datetime(train_df['Date'])\n",
        "train_df.set_index('Date', inplace=True)\n",
        "\n",
        "# Use only the necessary columns for LSTM training\n",
        "train_data = train_df[['Sales', 'Store_id', 'Holiday']]  # Include any other features you want\n",
        "\n",
        "# Standardize the data\n",
        "scaler = StandardScaler()\n",
        "train_data_scaled = scaler.fit_transform(train_data)\n",
        "\n",
        "# Define the number of timesteps (e.g., use the last 7 days to predict the next day)\n",
        "timesteps = 7\n",
        "\n",
        "# Helper function to create sequences\n",
        "def create_sequences(data, timesteps):\n",
        "    X, y = [], []\n",
        "    for i in range(len(data) - timesteps):\n",
        "        X.append(data[i:i+timesteps])\n",
        "        y.append(data[i + timesteps][0])  # Target is the 'Sales' column\n",
        "    return np.array(X), np.array(y)\n",
        "\n",
        "# Generate sequences from training data\n",
        "X_train, y_train = create_sequences(train_data_scaled, timesteps)\n"
      ]
    },
    {
      "cell_type": "code",
      "execution_count": null,
      "metadata": {
        "colab": {
          "base_uri": "https://localhost:8080/"
        },
        "id": "aEQ-1-GL3Ai8",
        "outputId": "41899106-9694-4f7e-9751-e47f0a25f5d2"
      },
      "outputs": [
        {
          "name": "stdout",
          "output_type": "stream",
          "text": [
            "Epoch 1/10\n",
            "\u001b[1m4709/4709\u001b[0m \u001b[32m━━━━━━━━━━━━━━━━━━━━\u001b[0m\u001b[37m\u001b[0m \u001b[1m47s\u001b[0m 7ms/step - loss: 0.8007 - val_loss: 0.9924\n",
            "Epoch 2/10\n",
            "\u001b[1m4709/4709\u001b[0m \u001b[32m━━━━━━━━━━━━━━━━━━━━\u001b[0m\u001b[37m\u001b[0m \u001b[1m74s\u001b[0m 7ms/step - loss: 0.8101 - val_loss: 0.9964\n",
            "Epoch 3/10\n",
            "\u001b[1m4709/4709\u001b[0m \u001b[32m━━━━━━━━━━━━━━━━━━━━\u001b[0m\u001b[37m\u001b[0m \u001b[1m39s\u001b[0m 7ms/step - loss: 0.8000 - val_loss: 0.9956\n",
            "Epoch 4/10\n",
            "\u001b[1m4709/4709\u001b[0m \u001b[32m━━━━━━━━━━━━━━━━━━━━\u001b[0m\u001b[37m\u001b[0m \u001b[1m41s\u001b[0m 7ms/step - loss: 0.7924 - val_loss: 0.9957\n",
            "Epoch 5/10\n",
            "\u001b[1m4709/4709\u001b[0m \u001b[32m━━━━━━━━━━━━━━━━━━━━\u001b[0m\u001b[37m\u001b[0m \u001b[1m39s\u001b[0m 6ms/step - loss: 0.7895 - val_loss: 0.9928\n",
            "Epoch 6/10\n",
            "\u001b[1m4709/4709\u001b[0m \u001b[32m━━━━━━━━━━━━━━━━━━━━\u001b[0m\u001b[37m\u001b[0m \u001b[1m40s\u001b[0m 6ms/step - loss: 0.7938 - val_loss: 0.9927\n",
            "Epoch 7/10\n",
            "\u001b[1m4709/4709\u001b[0m \u001b[32m━━━━━━━━━━━━━━━━━━━━\u001b[0m\u001b[37m\u001b[0m \u001b[1m29s\u001b[0m 6ms/step - loss: 0.7973 - val_loss: 0.9919\n",
            "Epoch 8/10\n",
            "\u001b[1m4709/4709\u001b[0m \u001b[32m━━━━━━━━━━━━━━━━━━━━\u001b[0m\u001b[37m\u001b[0m \u001b[1m42s\u001b[0m 6ms/step - loss: 0.7981 - val_loss: 0.9922\n",
            "Epoch 9/10\n",
            "\u001b[1m4709/4709\u001b[0m \u001b[32m━━━━━━━━━━━━━━━━━━━━\u001b[0m\u001b[37m\u001b[0m \u001b[1m29s\u001b[0m 6ms/step - loss: 0.8059 - val_loss: 0.9917\n",
            "Epoch 10/10\n",
            "\u001b[1m4709/4709\u001b[0m \u001b[32m━━━━━━━━━━━━━━━━━━━━\u001b[0m\u001b[37m\u001b[0m \u001b[1m41s\u001b[0m 6ms/step - loss: 0.8045 - val_loss: 0.9909\n"
          ]
        }
      ],
      "source": [
        "# Define the LSTM model\n",
        "model = Sequential([\n",
        "    LSTM(units=50, return_sequences=True, input_shape=(X_train.shape[1], X_train.shape[2])),\n",
        "    Dropout(0.2),\n",
        "    LSTM(units=50),\n",
        "    Dropout(0.2),\n",
        "    Dense(units=1)  # Output layer\n",
        "])\n",
        "\n",
        "# Compile the model\n",
        "model.compile(optimizer='adam', loss='mean_squared_error')\n",
        "\n",
        "# Train the model\n",
        "history = model.fit(X_train, y_train, epochs=10, batch_size=32, validation_split=0.2)\n"
      ]
    },
    {
      "cell_type": "code",
      "execution_count": null,
      "metadata": {
        "colab": {
          "base_uri": "https://localhost:8080/"
        },
        "id": "rBEYSwrOYnIt",
        "outputId": "3f65f8f1-9e67-433d-cea7-04a87336ec4a"
      },
      "outputs": [
        {
          "name": "stdout",
          "output_type": "stream",
          "text": [
            "\u001b[1m5886/5886\u001b[0m \u001b[32m━━━━━━━━━━━━━━━━━━━━\u001b[0m\u001b[37m\u001b[0m \u001b[1m12s\u001b[0m 2ms/step\n",
            "Training RMSE: 16838.66157258379\n"
          ]
        }
      ],
      "source": [
        "# Predict on the training set\n",
        "y_train_pred = model.predict(X_train)\n",
        "\n",
        "# Inverse transform to get the original scale for 'Sales'\n",
        "y_train_pred = scaler.inverse_transform(\n",
        "    np.concatenate([y_train_pred, np.zeros((y_train_pred.shape[0], train_data.shape[1] - 1))], axis=1))[:, 0]\n",
        "y_train_true = scaler.inverse_transform(\n",
        "    np.concatenate([y_train.reshape(-1, 1), np.zeros((y_train.shape[0], train_data.shape[1] - 1))], axis=1))[:, 0]\n",
        "\n",
        "# Calculate RMSE on the training set\n",
        "train_rmse = np.sqrt(mean_squared_error(y_train_true, y_train_pred))\n",
        "print(\"Training RMSE:\", train_rmse)\n"
      ]
    },
    {
      "cell_type": "code",
      "execution_count": null,
      "metadata": {
        "id": "qUyxhEIPaFlb"
      },
      "outputs": [],
      "source": [
        "# Redefine the columns for scaling, excluding 'Sales' to ensure compatibility with test data\n",
        "features_for_scaling = ['Store_id', 'Holiday']  # Adjust based on the columns available in test_df\n",
        "\n",
        "# Scale only the selected features\n",
        "scaler_features = StandardScaler()\n",
        "train_features_scaled = scaler_features.fit_transform(train_df[features_for_scaling])\n",
        "\n",
        "# Create a combined DataFrame with scaled features and original Sales\n",
        "train_data_scaled = np.concatenate([train_df[['Sales']].values, train_features_scaled], axis=1)\n",
        "\n",
        "# Define the number of timesteps (e.g., last 7 days to predict the next day)\n",
        "timesteps = 7\n",
        "\n",
        "# Generate sequences from scaled training data\n",
        "X_train, y_train = create_sequences(train_data_scaled, timesteps)\n",
        "\n",
        "# Scale the test data with the same scaler\n",
        "test_data_scaled = scaler_features.transform(test_df[features_for_scaling])\n",
        "\n",
        "# Concatenate the last part of train data to ensure continuity in the test sequence\n",
        "test_data_combined = np.concatenate((train_features_scaled[-timesteps:], test_data_scaled), axis=0)\n",
        "\n",
        "# Generate test sequences for prediction\n",
        "X_test, _ = create_sequences(test_data_combined, timesteps)\n"
      ]
    },
    {
      "cell_type": "code",
      "execution_count": null,
      "metadata": {
        "colab": {
          "base_uri": "https://localhost:8080/"
        },
        "id": "hThCcTN2Y-Cx",
        "outputId": "4422a293-1503-482c-bd7b-af6a032817e0"
      },
      "outputs": [
        {
          "name": "stdout",
          "output_type": "stream",
          "text": [
            "\u001b[1m5886/5886\u001b[0m \u001b[32m━━━━━━━━━━━━━━━━━━━━\u001b[0m\u001b[37m\u001b[0m \u001b[1m13s\u001b[0m 2ms/step\n",
            "Predictions on Test Data: [69698.34961838 69698.34961838 69698.34961838 ... 69698.34961838\n",
            " 69698.34961838 69698.34961838]\n"
          ]
        }
      ],
      "source": [
        "# Make predictions using your trained model on X_test\n",
        "y_test_pred_scaled = model.predict(X_train)\n",
        "\n",
        "# Inverse transform the predictions for 'Sales' only, restoring them to the original scale\n",
        "# We use np.zeros to ensure compatibility with the scaler's expected number of features\n",
        "# We are assuming 'Sales' is the first column, as used in `train_data_scaled`\n",
        "\n",
        "# Initialize an array of zeros to fit the required dimensions for inverse transformation\n",
        "# Here, `y_test_pred_scaled.shape[0]` is the number of predictions, and `len(features_for_scaling)` is the number of features used for scaling\n",
        "zeros_for_inverse = np.zeros((y_test_pred_scaled.shape[0], len(features_for_scaling)))\n",
        "\n",
        "# Concatenate predicted sales with zeros for other features to match scaler input structure\n",
        "y_test_pred_combined = np.concatenate([y_test_pred_scaled, zeros_for_inverse], axis=1)\n",
        "\n",
        "# Inverse transform the combined array\n",
        "y_test_pred = scaler.inverse_transform(y_test_pred_combined)[:, 0]  # Extract 'Sales' column only\n",
        "\n",
        "# Output predictions\n",
        "print(\"Predictions on Test Data:\", y_test_pred)\n"
      ]
    },
    {
      "cell_type": "code",
      "execution_count": null,
      "metadata": {
        "colab": {
          "base_uri": "https://localhost:8080/",
          "height": 641
        },
        "id": "u3ZoCYxiaQK1",
        "outputId": "23d318b9-336e-4c3d-ce17-2f23bfb1da48"
      },
      "outputs": [
        {
          "data": {
            "image/png": "[encoded data removed]",
            "text/plain": [
              "<Figure size 1400x700 with 1 Axes>"
            ]
          },
          "metadata": {},
          "output_type": "display_data"
        }
      ],
      "source": [
        "import matplotlib.pyplot as plt\n",
        "\n",
        "# Plot predictions vs actual values on the training set\n",
        "plt.figure(figsize=(14, 7))\n",
        "plt.plot(train_df.index[-len(y_train_true):], y_train_true, color='blue', label=\"Actual Sales (Train)\")\n",
        "plt.plot(train_df.index[-len(y_train_pred):], y_train_pred, color='red', linestyle='--', label=\"Predicted Sales (Train)\")\n",
        "plt.xlabel(\"Date\")\n",
        "plt.ylabel(\"Sales\")\n",
        "plt.title(\"Training Data: Actual vs Predicted Sales\")\n",
        "plt.legend()\n",
        "plt.show()\n",
        "\n",
        "\n"
      ]
    },
    {
      "cell_type": "markdown",
      "metadata": {
        "id": "3kPDAOkWCWv7"
      },
      "source": [
        "Ensemble Techniques: Combine predictions from multiple models to improve accuracy and robustness."
      ]
    },
    {
      "cell_type": "markdown",
      "metadata": {
        "id": "Mz07GWr0CbUY"
      },
      "source": [
        "1. Training Multiple Models"
      ]
    },
    {
      "cell_type": "code",
      "execution_count": null,
      "metadata": {
        "colab": {
          "base_uri": "https://localhost:8080/"
        },
        "id": "dfV9HHoVb5lm",
        "outputId": "e1df9064-54b8-497b-c619-dc1d4b1bc019"
      },
      "outputs": [
        {
          "name": "stderr",
          "output_type": "stream",
          "text": [
            "INFO:prophet:Disabling yearly seasonality. Run prophet with yearly_seasonality=True to override this.\n",
            "INFO:prophet:Disabling daily seasonality. Run prophet with daily_seasonality=True to override this.\n",
            "DEBUG:cmdstanpy:input tempfile: /tmp/tmp6npxb8g3/1i4usff7.json\n",
            "DEBUG:cmdstanpy:input tempfile: /tmp/tmp6npxb8g3/isc70g0c.json\n",
            "DEBUG:cmdstanpy:idx 0\n",
            "DEBUG:cmdstanpy:running CmdStan, num_threads: None\n",
            "DEBUG:cmdstanpy:CmdStan args: ['/usr/local/lib/python3.10/dist-packages/prophet/stan_model/prophet_model.bin', 'random', 'seed=37946', 'data', 'file=/tmp/tmp6npxb8g3/1i4usff7.json', 'init=/tmp/tmp6npxb8g3/isc70g0c.json', 'output', 'file=/tmp/tmp6npxb8g3/prophet_model468wvfgs/prophet_model-20241109055429.csv', 'method=optimize', 'algorithm=lbfgs', 'iter=10000']\n",
            "05:54:29 - cmdstanpy - INFO - Chain [1] start processing\n",
            "INFO:cmdstanpy:Chain [1] start processing\n",
            "05:55:37 - cmdstanpy - INFO - Chain [1] done processing\n",
            "INFO:cmdstanpy:Chain [1] done processing\n"
          ]
        }
      ],
      "source": [
        "# SARIMA Model\n",
        "validation_start = train_df.index[-30]  # Start 30 days from the end of train_df (or adjust as needed)\n",
        "validation_end = train_df.index[-1]\n",
        "\n",
        "sarima_pred = sarima_model_fit.predict(start=validation_start, end=validation_end)\n",
        "\n",
        "# Prophet Model\n",
        "prophet_model = Prophet()\n",
        "prophet_model.fit(train_df_prophet)  # Ensure data is in Prophet's required format\n",
        "prophet_pred = prophet_model.predict(future_dates)\n"
      ]
    },
    {
      "cell_type": "markdown",
      "metadata": {
        "id": "Scil8aAZCgoe"
      },
      "source": [
        "2. Ensemble Techniques"
      ]
    },
    {
      "cell_type": "code",
      "execution_count": null,
      "metadata": {
        "id": "wyppBtj2i02B"
      },
      "outputs": [],
      "source": [
        "# Combine predictions using simple average\n",
        "ensemble_pred = (sarima_pred + prophet_pred['yhat'] ) / 2\n"
      ]
    },
    {
      "cell_type": "code",
      "execution_count": null,
      "metadata": {
        "id": "DU6msoPgClL5"
      },
      "outputs": [],
      "source": [
        "# Define weights based on model performance (e.g., RMSE or MAE on validation set)\n",
        "weight_sarima = 0.5\n",
        "weight_prophet = 0.3\n",
        "weight_lstm = 0.2\n",
        "\n",
        "# Calculate weighted ensemble prediction\n",
        "ensemble_pred = (weight_sarima * sarima_pred +\n",
        "                 weight_prophet * prophet_pred['yhat']\n",
        "\n",
        "                 +weight_lstm *sarima_pred  )\n"
      ]
    },
    {
      "cell_type": "markdown",
      "metadata": {
        "id": "i12teychCqj_"
      },
      "source": [
        "3. Model Evaluation"
      ]
    },
    {
      "cell_type": "code",
      "execution_count": null,
      "metadata": {
        "colab": {
          "base_uri": "https://localhost:8080/"
        },
        "id": "uqrhI7YAbcH8",
        "outputId": "61a66e62-eca4-4147-f147-a7749d3bfeb3"
      },
      "outputs": [
        {
          "name": "stdout",
          "output_type": "stream",
          "text": [
            "Model Evaluation:\n",
            "Mean Absolute Error (MAE): 29399.71876307027\n",
            "Mean Squared Error (MSE): 1064963046.3298006\n",
            "Root Mean Squared Error (RMSE): 32633.77156152504\n"
          ]
        }
      ],
      "source": [
        "from sklearn.metrics import mean_absolute_error, mean_squared_error\n",
        "import numpy as np\n",
        "\n",
        "# Assuming `y_true` is the actual Sales values for the test data\n",
        "# And `y_test_pred` are the predicted Sales values from your model\n",
        "\n",
        "# Calculate evaluation metrics\n",
        "mae = mean_absolute_error(y_train, y_test_pred)\n",
        "mse = mean_squared_error(y_train, y_test_pred)\n",
        "rmse = np.sqrt(mse)\n",
        "\n",
        "# Display results\n",
        "print(\"Model Evaluation:\")\n",
        "print(f\"Mean Absolute Error (MAE): {mae}\")\n",
        "print(f\"Mean Squared Error (MSE): {mse}\")\n",
        "print(f\"Root Mean Squared Error (RMSE): {rmse}\")\n"
      ]
    },
    {
      "cell_type": "markdown",
      "metadata": {
        "id": "X5hejlFYCww4"
      },
      "source": [
        "3.Model Evaluation and Validation\n",
        "\n",
        "●\tCross-Validation: Implement time-series specific cross-validation techniques to evaluate model performance over different temporal splits of the data.\n",
        "\n",
        "●\tPerformance Metrics: Use metrics appropriate for regression tasks, such as MAE (Mean Absolute Error), MSE (Mean Squared Error), RMSE (Root Mean Squared Error), and MAPE (Mean Absolute Percentage Error).\n",
        "\n",
        "●\tResidual Analysis: Analyze the residuals to ensure there are no patterns left unmodeled."
      ]
    },
    {
      "cell_type": "markdown",
      "metadata": {
        "id": "3Sh-o19xcWXd"
      },
      "source": [
        " Performance Metrics"
      ]
    },
    {
      "cell_type": "code",
      "execution_count": null,
      "metadata": {
        "colab": {
          "base_uri": "https://localhost:8080/"
        },
        "id": "JpdxZi2HcGLr",
        "outputId": "ffd5dd18-c8f1-4c43-c864-f19b4eb88df3"
      },
      "outputs": [
        {
          "name": "stdout",
          "output_type": "stream",
          "text": [
            "Final Model Performance on Test Set:\n",
            "MAE: 29399.71876307027\n",
            "MSE: 1064963046.3298006\n",
            "RMSE: 32633.77156152504\n",
            "MAPE: inf\n"
          ]
        }
      ],
      "source": [
        "from sklearn.metrics import mean_absolute_error, mean_squared_error\n",
        "import numpy as np\n",
        "\n",
        "# Assuming y_true contains the actual test values and y_test_pred are predictions\n",
        "mae = mean_absolute_error(y_train, y_test_pred)\n",
        "mse = mean_squared_error(y_train, y_test_pred)\n",
        "rmse = np.sqrt(mse)\n",
        "mape = np.mean(np.abs((y_train - y_test_pred) / y_train)) * 100  # MAPE\n",
        "\n",
        "print(\"Final Model Performance on Test Set:\")\n",
        "print(f\"MAE: {mae}\")\n",
        "print(f\"MSE: {mse}\")\n",
        "print(f\"RMSE: {rmse}\")\n",
        "print(f\"MAPE: {mape}\")\n"
      ]
    },
    {
      "cell_type": "markdown",
      "metadata": {
        "id": "Q1w_9paec037"
      },
      "source": [
        "Residual Analysis"
      ]
    },
    {
      "cell_type": "code",
      "execution_count": null,
      "metadata": {
        "colab": {
          "base_uri": "https://localhost:8080/",
          "height": 1000
        },
        "id": "jEM2uWvqcbxf",
        "outputId": "5377dafb-cbd3-482a-8647-d3178c8e5bb4"
      },
      "outputs": [
        {
          "data": {
            "image/png": "[encoded data removed]",
            "text/plain": [
              "<Figure size 1000x600 with 1 Axes>"
            ]
          },
          "metadata": {},
          "output_type": "display_data"
        },
        {
          "data": {
            "image/png": "[encoded data removed]",
            "text/plain": [
              "<Figure size 800x500 with 1 Axes>"
            ]
          },
          "metadata": {},
          "output_type": "display_data"
        },
        {
          "data": {
            "image/png": "[encoded data removed]",
            "text/plain": [
              "<Figure size 640x480 with 1 Axes>"
            ]
          },
          "metadata": {},
          "output_type": "display_data"
        }
      ],
      "source": [
        "import matplotlib.pyplot as plt\n",
        "import seaborn as sns\n",
        "\n",
        "# Calculate residuals\n",
        "residuals = y_train - y_test_pred\n",
        "\n",
        "# Plot residuals over time\n",
        "plt.figure(figsize=(10, 6))\n",
        "plt.plot(residuals, label=\"Residuals\")\n",
        "plt.axhline(0, color='red', linestyle='--')\n",
        "plt.xlabel(\"Time\")\n",
        "plt.ylabel(\"Residuals\")\n",
        "plt.legend()\n",
        "plt.title(\"Residuals Over Time\")\n",
        "plt.show()\n",
        "\n",
        "# Distribution of residuals\n",
        "plt.figure(figsize=(8, 5))\n",
        "sns.histplot(residuals, kde=True)\n",
        "plt.title(\"Residuals Distribution\")\n",
        "plt.xlabel(\"Residuals\")\n",
        "plt.show()\n",
        "\n",
        "# Residuals Autocorrelation Plot\n",
        "from statsmodels.graphics.tsaplots import plot_acf\n",
        "plot_acf(residuals)\n",
        "plt.title(\"Autocorrelation of Residuals\")\n",
        "plt.show()\n"
      ]
    },
    {
      "cell_type": "markdown",
      "metadata": {
        "id": "WdFcv--8E1dT"
      },
      "source": [
        "**Deployment**"
      ]
    },
    {
      "cell_type": "code",
      "execution_count": null,
      "metadata": {
        "id": "QXinTqEgmDuZ"
      },
      "outputs": [],
      "source": [
        "import pandas as pd\n",
        "train_df=pd.read_csv(\"/content/TRAIN.csv\")"
      ]
    },
    {
      "cell_type": "markdown",
      "metadata": {
        "id": "KaM7FYadFDVA"
      },
      "source": [
        "Steps for Deploying a Machine Learning Model via Flask API"
      ]
    },
    {
      "cell_type": "markdown",
      "metadata": {
        "id": "4CsTfcKYFJjB"
      },
      "source": [
        "1.Preparation and Setup\n",
        "\n",
        "●\tEnvironment Setup: Create a Python virtual environment and install Flask along with necessary libraries such as numpy, pandas, scikit-learn, and any other libraries used in the model.\n",
        "\n",
        "●\tDirectory Structure: Organize your Flask application with proper directories for templates, static files, and the main application script.\n"
      ]
    },
    {
      "cell_type": "code",
      "execution_count": null,
      "metadata": {
        "colab": {
          "base_uri": "https://localhost:8080/"
        },
        "id": "ULlDDDJLE-GO",
        "outputId": "3a5ce4c8-d036-417d-d545-f779d3970acb"
      },
      "outputs": [
        {
          "name": "stdout",
          "output_type": "stream",
          "text": [
            "Requirement already satisfied: Flask in /usr/local/lib/python3.10/dist-packages (2.2.5)\n",
            "Requirement already satisfied: numpy in /usr/local/lib/python3.10/dist-packages (1.26.4)\n",
            "Requirement already satisfied: pandas in /usr/local/lib/python3.10/dist-packages (2.2.2)\n",
            "Requirement already satisfied: scikit-learn in /usr/local/lib/python3.10/dist-packages (1.5.2)\n",
            "Requirement already satisfied: joblib in /usr/local/lib/python3.10/dist-packages (1.4.2)\n",
            "Requirement already satisfied: Werkzeug>=2.2.2 in /usr/local/lib/python3.10/dist-packages (from Flask) (3.0.6)\n",
            "Requirement already satisfied: Jinja2>=3.0 in /usr/local/lib/python3.10/dist-packages (from Flask) (3.1.4)\n",
            "Requirement already satisfied: itsdangerous>=2.0 in /usr/local/lib/python3.10/dist-packages (from Flask) (2.2.0)\n",
            "Requirement already satisfied: click>=8.0 in /usr/local/lib/python3.10/dist-packages (from Flask) (8.1.7)\n",
            "Requirement already satisfied: python-dateutil>=2.8.2 in /usr/local/lib/python3.10/dist-packages (from pandas) (2.8.2)\n",
            "Requirement already satisfied: pytz>=2020.1 in /usr/local/lib/python3.10/dist-packages (from pandas) (2024.2)\n",
            "Requirement already satisfied: tzdata>=2022.7 in /usr/local/lib/python3.10/dist-packages (from pandas) (2024.2)\n",
            "Requirement already satisfied: scipy>=1.6.0 in /usr/local/lib/python3.10/dist-packages (from scikit-learn) (1.13.1)\n",
            "Requirement already satisfied: threadpoolctl>=3.1.0 in /usr/local/lib/python3.10/dist-packages (from scikit-learn) (3.5.0)\n",
            "Requirement already satisfied: MarkupSafe>=2.0 in /usr/local/lib/python3.10/dist-packages (from Jinja2>=3.0->Flask) (3.0.2)\n",
            "Requirement already satisfied: six>=1.5 in /usr/local/lib/python3.10/dist-packages (from python-dateutil>=2.8.2->pandas) (1.16.0)\n"
          ]
        }
      ],
      "source": [
        "!pip install Flask numpy pandas scikit-learn joblib\n"
      ]
    },
    {
      "cell_type": "code",
      "execution_count": null,
      "metadata": {
        "colab": {
          "base_uri": "https://localhost:8080/"
        },
        "id": "KSLiuYY-iWEO",
        "outputId": "db45d575-4022-4ffa-f5f9-819b362b0476"
      },
      "outputs": [
        {
          "name": "stdout",
          "output_type": "stream",
          "text": [
            "Requirement already satisfied: prophet in /usr/local/lib/python3.10/dist-packages (1.1.6)\n",
            "Requirement already satisfied: xgboost in /usr/local/lib/python3.10/dist-packages (2.1.2)\n",
            "Requirement already satisfied: cmdstanpy>=1.0.4 in /usr/local/lib/python3.10/dist-packages (from prophet) (1.2.4)\n",
            "Requirement already satisfied: numpy>=1.15.4 in /usr/local/lib/python3.10/dist-packages (from prophet) (1.26.4)\n",
            "Requirement already satisfied: matplotlib>=2.0.0 in /usr/local/lib/python3.10/dist-packages (from prophet) (3.8.0)\n",
            "Requirement already satisfied: pandas>=1.0.4 in /usr/local/lib/python3.10/dist-packages (from prophet) (2.2.2)\n",
            "Requirement already satisfied: holidays<1,>=0.25 in /usr/local/lib/python3.10/dist-packages (from prophet) (0.59)\n",
            "Requirement already satisfied: tqdm>=4.36.1 in /usr/local/lib/python3.10/dist-packages (from prophet) (4.66.6)\n",
            "Requirement already satisfied: importlib-resources in /usr/local/lib/python3.10/dist-packages (from prophet) (6.4.5)\n",
            "Requirement already satisfied: nvidia-nccl-cu12 in /usr/local/lib/python3.10/dist-packages (from xgboost) (2.23.4)\n",
            "Requirement already satisfied: scipy in /usr/local/lib/python3.10/dist-packages (from xgboost) (1.13.1)\n",
            "Requirement already satisfied: stanio<2.0.0,>=0.4.0 in /usr/local/lib/python3.10/dist-packages (from cmdstanpy>=1.0.4->prophet) (0.5.1)\n",
            "Requirement already satisfied: python-dateutil in /usr/local/lib/python3.10/dist-packages (from holidays<1,>=0.25->prophet) (2.8.2)\n",
            "Requirement already satisfied: contourpy>=1.0.1 in /usr/local/lib/python3.10/dist-packages (from matplotlib>=2.0.0->prophet) (1.3.0)\n",
            "Requirement already satisfied: cycler>=0.10 in /usr/local/lib/python3.10/dist-packages (from matplotlib>=2.0.0->prophet) (0.12.1)\n",
            "Requirement already satisfied: fonttools>=4.22.0 in /usr/local/lib/python3.10/dist-packages (from matplotlib>=2.0.0->prophet) (4.54.1)\n",
            "Requirement already satisfied: kiwisolver>=1.0.1 in /usr/local/lib/python3.10/dist-packages (from matplotlib>=2.0.0->prophet) (1.4.7)\n",
            "Requirement already satisfied: packaging>=20.0 in /usr/local/lib/python3.10/dist-packages (from matplotlib>=2.0.0->prophet) (24.1)\n",
            "Requirement already satisfied: pillow>=6.2.0 in /usr/local/lib/python3.10/dist-packages (from matplotlib>=2.0.0->prophet) (10.4.0)\n",
            "Requirement already satisfied: pyparsing>=2.3.1 in /usr/local/lib/python3.10/dist-packages (from matplotlib>=2.0.0->prophet) (3.2.0)\n",
            "Requirement already satisfied: pytz>=2020.1 in /usr/local/lib/python3.10/dist-packages (from pandas>=1.0.4->prophet) (2024.2)\n",
            "Requirement already satisfied: tzdata>=2022.7 in /usr/local/lib/python3.10/dist-packages (from pandas>=1.0.4->prophet) (2024.2)\n",
            "Requirement already satisfied: six>=1.5 in /usr/local/lib/python3.10/dist-packages (from python-dateutil->holidays<1,>=0.25->prophet) (1.16.0)\n"
          ]
        }
      ],
      "source": [
        "!pip install prophet xgboost\n"
      ]
    },
    {
      "cell_type": "code",
      "execution_count": null,
      "metadata": {
        "id": "igKmp2q2jTiX"
      },
      "outputs": [],
      "source": [
        "# Set up project directory structure\n",
        "!mkdir -p app/static app/templates app/models\n"
      ]
    },
    {
      "cell_type": "code",
      "execution_count": null,
      "metadata": {
        "colab": {
          "base_uri": "https://localhost:8080/"
        },
        "id": "hJvngaqAjqG2",
        "outputId": "93a6ae79-9c93-4178-b8a2-6f78694dcdcf"
      },
      "outputs": [
        {
          "name": "stdout",
          "output_type": "stream",
          "text": [
            "Overwriting main.py\n"
          ]
        }
      ],
      "source": [
        "%%writefile main.py\n",
        "from flask import Flask, request, jsonify, render_template\n",
        "import joblib\n",
        "import pandas as pd\n",
        "\n",
        "app = Flask(__name__)\n",
        "\n",
        "# Load pre-trained model\n",
        "model = joblib.load(\"app/models/model.pkl\")\n",
        "\n",
        "@app.route('/')\n",
        "def home():\n",
        "    return render_template('index.html')\n",
        "\n",
        "@app.route('/predict', methods=['POST'])\n",
        "def predict():\n",
        "    data = request.json if request.is_json else request.form.to_dict()\n",
        "    df = pd.DataFrame([data])\n",
        "    prediction = model.predict(df)\n",
        "    return jsonify({'prediction': prediction.tolist()})\n",
        "\n",
        "if __name__ == \"__main__\":\n",
        "    app.run(debug=True)\n"
      ]
    },
    {
      "cell_type": "code",
      "execution_count": null,
      "metadata": {
        "id": "kGXyPxi3ZoRC"
      },
      "outputs": [],
      "source": [
        "if 'Date' in train_df.columns:\n",
        "    # Ensure 'Date' is in datetime format\n",
        "    train_df['Date'] = pd.to_datetime(train_df['Date'])\n",
        "\n",
        "    # Extract useful components from the Date (optional: modify based on your data)\n",
        "    train_df['Year'] = train_df['Date'].dt.year\n",
        "    train_df['Month'] = train_df['Date'].dt.month\n",
        "    train_df['Day'] = train_df['Date'].dt.day\n",
        "\n",
        "    # Drop the original 'Date' column as it can't be used directly\n",
        "    train_df = train_df.drop(columns=['Date'])"
      ]
    },
    {
      "cell_type": "code",
      "execution_count": null,
      "metadata": {
        "id": "WstADFH4cv52"
      },
      "outputs": [],
      "source": [
        "store_type_dummies = pd.get_dummies(train_df['Store_Type'], prefix='Store_Type')\n",
        "\n",
        "# Now concatenate the one-hot encoded columns with the original DataFrame\n",
        "train_df = pd.concat([train_df, store_type_dummies], axis=1)\n",
        "\n",
        "# If needed, you can drop the original 'Store_Type' column\n",
        "train_df = train_df.drop('Store_Type', axis=1)"
      ]
    },
    {
      "cell_type": "code",
      "execution_count": null,
      "metadata": {
        "id": "35hxtjSPc8OD"
      },
      "outputs": [],
      "source": [
        "region_code_dummies = pd.get_dummies(train_df['Region_Code'], prefix='Region_Code')\n",
        "\n",
        "# Now concatenate the one-hot encoded columns with the original DataFrame\n",
        "train_df = pd.concat([train_df, region_code_dummies], axis=1)\n",
        "\n",
        "# If needed, you can drop the original 'Store_Type' column\n",
        "train_df = train_df.drop('Region_Code', axis=1)"
      ]
    },
    {
      "cell_type": "code",
      "execution_count": null,
      "metadata": {
        "id": "NQkP9m-XdZE2"
      },
      "outputs": [],
      "source": [
        "location_type_dummies = pd.get_dummies(train_df['Location_Type'], prefix='Location_Type')\n",
        "\n",
        "# Now concatenate the one-hot encoded columns with the original DataFrame\n",
        "train_df = pd.concat([train_df, location_type_dummies], axis=1)\n",
        "\n",
        "# If needed, you can drop the original 'Store_Type' column\n",
        "train_df = train_df.drop('Location_Type', axis=1)"
      ]
    },
    {
      "cell_type": "code",
      "execution_count": null,
      "metadata": {
        "colab": {
          "base_uri": "https://localhost:8080/"
        },
        "id": "_-4fxZIhc0yg",
        "outputId": "5bfa881f-7513-4d69-94b4-d03aec843cc8"
      },
      "outputs": [
        {
          "data": {
            "text/plain": [
              "Index(['ID', 'Store_id', 'Holiday', 'Discount', '#Order', 'Sales', 'Year',\n",
              "       'Month', 'Day', 'Store_Type_S1', 'Store_Type_S2', 'Store_Type_S3',\n",
              "       'Store_Type_S4', 'Location_Type_L1', 'Location_Type_L2',\n",
              "       'Location_Type_L3', 'Location_Type_L4', 'Location_Type_L5',\n",
              "       'Region_Code_R1', 'Region_Code_R2', 'Region_Code_R3', 'Region_Code_R4'],\n",
              "      dtype='object')"
            ]
          },
          "execution_count": 14,
          "metadata": {},
          "output_type": "execute_result"
        }
      ],
      "source": [
        "train_df.columns"
      ]
    },
    {
      "cell_type": "code",
      "execution_count": null,
      "metadata": {
        "colab": {
          "base_uri": "https://localhost:8080/"
        },
        "id": "-buMZLqUq2s7",
        "outputId": "89f55822-2aca-4eeb-cdb0-8f66190d4733"
      },
      "outputs": [
        {
          "name": "stdout",
          "output_type": "stream",
          "text": [
            "Columns in train_df: Index(['ID', 'Store_id', 'Holiday', 'Discount', '#Order', 'Sales', 'Year',\n",
            "       'Month', 'Day', 'Store_Type_S1', 'Store_Type_S2', 'Store_Type_S3',\n",
            "       'Store_Type_S4', 'Location_Type_L1', 'Location_Type_L2',\n",
            "       'Location_Type_L3', 'Location_Type_L4', 'Location_Type_L5',\n",
            "       'Region_Code_R1', 'Region_Code_R2', 'Region_Code_R3', 'Region_Code_R4'],\n",
            "      dtype='object')\n",
            "X shape: (188340, 20)\n",
            "y shape: (188340,)\n"
          ]
        },
        {
          "name": "stderr",
          "output_type": "stream",
          "text": [
            "<ipython-input-15-fca43503fc0a>:38: SettingWithCopyWarning: \n",
            "A value is trying to be set on a copy of a slice from a DataFrame.\n",
            "Try using .loc[row_indexer,col_indexer] = value instead\n",
            "\n",
            "See the caveats in the documentation: https://pandas.pydata.org/pandas-docs/stable/user_guide/indexing.html#returning-a-view-versus-a-copy\n",
            "  X[col] = label_encoder.fit_transform(X[col])\n"
          ]
        },
        {
          "data": {
            "text/plain": [
              "['app/models/model.pkl']"
            ]
          },
          "execution_count": 15,
          "metadata": {},
          "output_type": "execute_result"
        }
      ],
      "source": [
        "import joblib\n",
        "from sklearn.ensemble import RandomForestRegressor\n",
        "from sklearn.preprocessing import LabelEncoder\n",
        "import pandas as pd\n",
        "\n",
        "if 'Date' in train_df.columns:\n",
        "    # Ensure 'Date' is in datetime format\n",
        "    train_df['Date'] = pd.to_datetime(train_df['Date'])\n",
        "\n",
        "    # Extract useful components from the Date (optional: modify based on your data)\n",
        "    train_df['Year'] = train_df['Date'].dt.year\n",
        "    train_df['Month'] = train_df['Date'].dt.month\n",
        "    train_df['Day'] = train_df['Date'].dt.day\n",
        "\n",
        "    # Drop the original 'Date' column as it can't be used directly\n",
        "    train_df = train_df.drop(columns=['Date'])\n",
        "\n",
        "# Check the columns in your DataFrame\n",
        "print(\"Columns in train_df:\", train_df.columns)\n",
        "\n",
        "# Define the feature columns based on available columns\n",
        "# Use one-hot encoded columns instead of 'Store_Type', 'Location_Type', 'Region_Code', and 'Date'\n",
        "X = train_df[['Store_id', 'Holiday', 'Discount', '#Order',\n",
        "              'Store_Type_S1', 'Store_Type_S2', 'Store_Type_S3', 'Store_Type_S4',\n",
        "              'Location_Type_L1', 'Location_Type_L2', 'Location_Type_L3', 'Location_Type_L4', 'Location_Type_L5',\n",
        "              'Region_Code_R1', 'Region_Code_R2', 'Region_Code_R3', 'Region_Code_R4',\n",
        "              'Year', 'Month', 'Day']]  # Use Year, Month, and Day instead of Date\n",
        "\n",
        "y = train_df['Sales']   # Use the target column name\n",
        "\n",
        "# Check for columns with 'Yes' or 'No' and apply LabelEncoding\n",
        "categorical_cols = ['Holiday', 'Discount']  # Specify any column that contains 'Yes'/'No' or other categorical values\n",
        "label_encoder = LabelEncoder()\n",
        "\n",
        "# Encode each categorical column\n",
        "for col in categorical_cols:\n",
        "    if X[col].dtype == 'object':  # Check if the column is of string type\n",
        "        X[col] = label_encoder.fit_transform(X[col])\n",
        "\n",
        "# Check for NaN values and drop rows with NaNs if necessary\n",
        "if X.isnull().any().any() or y.isnull().any():\n",
        "    print(\"There are missing values in the data. Dropping rows with NaN values.\")\n",
        "    train_df = train_df.dropna()\n",
        "    X = train_df[['Store_id', 'Holiday', 'Discount', '#Order',\n",
        "                  'Store_Type_S1', 'Store_Type_S2', 'Store_Type_S3', 'Store_Type_S4',\n",
        "                  'Location_Type_L1', 'Location_Type_L2', 'Location_Type_L3', 'Location_Type_L4', 'Location_Type_L5',\n",
        "                  'Region_Code_R1', 'Region_Code_R2', 'Region_Code_R3', 'Region_Code_R4',\n",
        "                  'Year', 'Month', 'Day']]  # Update X after dropping NaN rows\n",
        "    y = train_df['Sales']   # Update y\n",
        "\n",
        "# Verify X and y shapes are compatible\n",
        "print(\"X shape:\", X.shape)\n",
        "print(\"y shape:\", y.shape)\n",
        "\n",
        "# Train the model\n",
        "model = RandomForestRegressor()\n",
        "model.fit(X, y)\n",
        "\n",
        "# Save the model\n",
        "joblib.dump(model, 'app/models/model.pkl')\n"
      ]
    },
    {
      "cell_type": "code",
      "execution_count": null,
      "metadata": {
        "colab": {
          "base_uri": "https://localhost:8080/"
        },
        "id": "7kgPafykeneP",
        "outputId": "009671b1-9685-4daa-9d55-4f7008af571b"
      },
      "outputs": [
        {
          "name": "stdout",
          "output_type": "stream",
          "text": [
            "Collecting flask-ngrok\n",
            "  Downloading flask_ngrok-0.0.25-py3-none-any.whl.metadata (1.8 kB)\n",
            "Requirement already satisfied: Flask>=0.8 in /usr/local/lib/python3.10/dist-packages (from flask-ngrok) (2.2.5)\n",
            "Requirement already satisfied: requests in /usr/local/lib/python3.10/dist-packages (from flask-ngrok) (2.32.3)\n",
            "Requirement already satisfied: Werkzeug>=2.2.2 in /usr/local/lib/python3.10/dist-packages (from Flask>=0.8->flask-ngrok) (3.0.6)\n",
            "Requirement already satisfied: Jinja2>=3.0 in /usr/local/lib/python3.10/dist-packages (from Flask>=0.8->flask-ngrok) (3.1.4)\n",
            "Requirement already satisfied: itsdangerous>=2.0 in /usr/local/lib/python3.10/dist-packages (from Flask>=0.8->flask-ngrok) (2.2.0)\n",
            "Requirement already satisfied: click>=8.0 in /usr/local/lib/python3.10/dist-packages (from Flask>=0.8->flask-ngrok) (8.1.7)\n",
            "Requirement already satisfied: charset-normalizer<4,>=2 in /usr/local/lib/python3.10/dist-packages (from requests->flask-ngrok) (3.4.0)\n",
            "Requirement already satisfied: idna<4,>=2.5 in /usr/local/lib/python3.10/dist-packages (from requests->flask-ngrok) (3.10)\n",
            "Requirement already satisfied: urllib3<3,>=1.21.1 in /usr/local/lib/python3.10/dist-packages (from requests->flask-ngrok) (2.2.3)\n",
            "Requirement already satisfied: certifi>=2017.4.17 in /usr/local/lib/python3.10/dist-packages (from requests->flask-ngrok) (2024.8.30)\n",
            "Requirement already satisfied: MarkupSafe>=2.0 in /usr/local/lib/python3.10/dist-packages (from Jinja2>=3.0->Flask>=0.8->flask-ngrok) (3.0.2)\n",
            "Downloading flask_ngrok-0.0.25-py3-none-any.whl (3.1 kB)\n",
            "Installing collected packages: flask-ngrok\n",
            "Successfully installed flask-ngrok-0.0.25\n"
          ]
        }
      ],
      "source": [
        "!pip install flask-ngrok"
      ]
    },
    {
      "cell_type": "code",
      "execution_count": null,
      "metadata": {
        "colab": {
          "background_save": true,
          "base_uri": "https://localhost:8080/"
        },
        "id": "y36LARf8fEPt",
        "outputId": "ef832818-0c9a-4c7b-a6ae-05e8d0332012"
      },
      "outputs": [
        {
          "name": "stdout",
          "output_type": "stream",
          "text": [
            " * Serving Flask app '__main__'\n",
            " * Debug mode: off\n"
          ]
        },
        {
          "name": "stderr",
          "output_type": "stream",
          "text": [
            "INFO:werkzeug:\u001b[31m\u001b[1mWARNING: This is a development server. Do not use it in a production deployment. Use a production WSGI server instead.\u001b[0m\n",
            " * Running on http://127.0.0.1:5000\n",
            "INFO:werkzeug:\u001b[33mPress CTRL+C to quit\u001b[0m\n"
          ]
        }
      ],
      "source": [
        "from flask import Flask, request, jsonify\n",
        "import joblib\n",
        "import numpy as np\n",
        "\n",
        "app = Flask(__name__)\n",
        "\n",
        "# Load the model when the server starts\n",
        "def load_model():\n",
        "    global model\n",
        "    model = joblib.load('app/models/model.pkl')  # Path to the saved model\n",
        "\n",
        "# Initialize the model\n",
        "load_model()\n",
        "\n",
        "@app.route('/')\n",
        "def home():\n",
        "    return \"Welcome to the Prediction API!\"\n",
        "\n",
        "@app.route('/predict', methods=['POST'])\n",
        "def predict():\n",
        "    # Get input data from the request\n",
        "    data = request.get_json()  # Assuming the input data is sent as JSON\n",
        "    features = np.array(data[['Store_id', 'Holiday', 'Discount', '#Order',\n",
        "                  'Store_Type_S1', 'Store_Type_S2', 'Store_Type_S3', 'Store_Type_S4',\n",
        "                  'Location_Type_L1', 'Location_Type_L2', 'Location_Type_L3', 'Location_Type_L4', 'Location_Type_L5',\n",
        "                  'Region_Code_R1', 'Region_Code_R2', 'Region_Code_R3', 'Region_Code_R4',\n",
        "                  'Year', 'Month', 'Day']]).reshape(1, -1)  # Reshaping the data into the required shape\n",
        "\n",
        "    # Make the prediction using the loaded model\n",
        "    prediction = model.predict(features)\n",
        "\n",
        "    # Return the prediction result as JSON\n",
        "    return jsonify({'prediction': prediction[0]})\n",
        "\n",
        "if __name__ == \"__main__\":\n",
        "    app.run()\n"
      ]
    },
    {
      "cell_type": "code",
      "execution_count": null,
      "metadata": {
        "id": "nqNFrWISgEwt"
      },
      "outputs": [],
      "source": [
        "pip install Flask joblib pandas scikit-learn"
      ]
    },
    {
      "cell_type": "code",
      "execution_count": null,
      "metadata": {
        "id": "RR66WCfYgOys"
      },
      "outputs": [],
      "source": [
        "from flask import Flask, request, jsonify\n",
        "import joblib\n",
        "import pandas as pd\n",
        "\n",
        "# Load the trained model (make sure the path matches where you saved the model)\n",
        "model = joblib.load('app/models/model.pkl')\n",
        "\n",
        "# Initialize the Flask application\n",
        "app = Flask(__name__)\n",
        "\n",
        "# Define a route for predicting sales\n",
        "@app.route('/predict', methods=['POST'])\n",
        "def predict_sales():\n",
        "    try:\n",
        "        # Get the input JSON data from the request\n",
        "        data = request.get_json()\n",
        "\n",
        "        # Check if required features are present in the request\n",
        "        required_features = ['Store_id', 'Holiday', 'Discount', '#Order', 'Location_Type', 'Region_Code']\n",
        "        if not all(feature in data for feature in required_features):\n",
        "            return jsonify({\"error\": \"Missing one or more required features\"}), 400\n",
        "\n",
        "        # Prepare the input data as a DataFrame\n",
        "        input_data = pd.DataFrame([data])\n",
        "\n",
        "        # Process 'Holiday' column to 1/0 if necessary (similar to the training data)\n",
        "        input_data['Holiday'] = input_data['Holiday'].apply(lambda x: 1 if x == 'Yes' else (0 if x == 'No' else 0))\n",
        "\n",
        "        # One-hot encode 'Store_id', 'Location_Type', 'Region_Code' columns\n",
        "        input_data = pd.get_dummies(input_data, columns=['Store_id', 'Location_Type', 'Region_Code'], drop_first=True)\n",
        "\n",
        "        # Ensure all columns needed by the model are present\n",
        "        model_features = model.feature_names_in_\n",
        "        missing_columns = set(model_features) - set(input_data.columns)\n",
        "        if missing_columns:\n",
        "            return jsonify({\"error\": f\"Missing columns: {', '.join(missing_columns)}\"}), 400\n",
        "\n",
        "        # Ensure the input data is aligned with the model's expected features\n",
        "        input_data = input_data[model_features]\n",
        "\n",
        "        # Make predictions using the trained model\n",
        "        predictions = model.predict(input_data)\n",
        "\n",
        "        # Return the prediction as JSON\n",
        "        return jsonify({\"predicted_sales\": predictions[0]}), 200\n",
        "\n",
        "    except Exception as e:\n",
        "        # Handle any errors that occur\n",
        "        return jsonify({\"error\": str(e)}), 500\n",
        "\n",
        "# Define a health check route\n",
        "@app.route('/health', methods=['GET'])\n",
        "def health_check():\n",
        "    return jsonify({\"status\": \"Model API is running\"}), 200\n",
        "\n",
        "if __name__ == '__main__':\n",
        "    app.run(debug=True)\n"
      ]
    },
    {
      "cell_type": "code",
      "execution_count": null,
      "metadata": {
        "id": "DgbbcUa_gVsO"
      },
      "outputs": [],
      "source": [
        "import requests\n",
        "\n",
        "# Define the input data (make sure this matches the features used by your model)\n",
        "data = {\n",
        "    \"Store_id\": 1,  # Store_id should match the encoding in the model\n",
        "    \"Holiday\": \"Yes\",  # 'Yes' or 'No' for the Holiday column\n",
        "    \"Discount\": 10,\n",
        "    \"#Order\": 150,\n",
        "    \"Location_Type\": \"L1\",  # Example value for Location_Type\n",
        "    \"Region_Code\": \"R1\"  # Example value for Region_Code\n",
        "}\n",
        "\n",
        "# Send POST request to the API\n",
        "response = requests.post('http://127.0.0.1:5000/predict', json=data)\n",
        "\n",
        "# Print the response from the API\n",
        "print(response.json())\n"
      ]
    }
  ],
  "metadata": {
    "accelerator": "GPU",
    "colab": {
      "gpuType": "T4",
      "provenance": []
    },
    "kernelspec": {
      "display_name": "Python 3",
      "name": "python3"
    },
    "language_info": {
      "name": "python"
    }
  },
  "nbformat": 4,
  "nbformat_minor": 0
}